{
 "cells": [
  {
   "cell_type": "markdown",
   "id": "fe1a752e",
   "metadata": {},
   "source": [
    "#          Retrieve Weather Data"
   ]
  },
  {
   "cell_type": "code",
   "execution_count": 1,
   "id": "d563c710",
   "metadata": {},
   "outputs": [],
   "source": [
    "# Import the dependencies.\n",
    "import pandas as pd\n",
    "import matplotlib.pyplot as plt\n",
    "import numpy as np"
   ]
  },
  {
   "cell_type": "code",
   "execution_count": 2,
   "id": "e9065a5c",
   "metadata": {},
   "outputs": [
    {
     "data": {
      "text/plain": [
       "<zip at 0x7fb496e2a5c0>"
      ]
     },
     "execution_count": 2,
     "metadata": {},
     "output_type": "execute_result"
    }
   ],
   "source": [
    "# Create a set of random latitude and longitude combinations.\n",
    "lats = np.random.uniform(low=-90.000, high=90.000, size=2000)\n",
    "lngs = np.random.uniform(low=-180.000, high=180.000, size=2000)\n",
    "lat_lngs = zip(lats, lngs)\n",
    "lat_lngs"
   ]
  },
  {
   "cell_type": "code",
   "execution_count": 3,
   "id": "49a7ff0a",
   "metadata": {},
   "outputs": [
    {
     "data": {
      "text/plain": [
       "2000"
      ]
     },
     "execution_count": 3,
     "metadata": {},
     "output_type": "execute_result"
    }
   ],
   "source": [
    "# Add the latitudes and longitudes to a list.\n",
    "coordinates = list(lat_lngs)\n",
    "len(coordinates)"
   ]
  },
  {
   "cell_type": "code",
   "execution_count": 4,
   "id": "536a2fcd",
   "metadata": {},
   "outputs": [],
   "source": [
    "# Use the citipy module to determine city based on latitude and longitude.\n",
    "from citipy import citipy"
   ]
  },
  {
   "cell_type": "code",
   "execution_count": 5,
   "id": "cbff62c5",
   "metadata": {},
   "outputs": [
    {
     "data": {
      "text/plain": [
       "753"
      ]
     },
     "execution_count": 5,
     "metadata": {},
     "output_type": "execute_result"
    }
   ],
   "source": [
    "# Create a list for holding the cities.\n",
    "cities = []\n",
    "# Identify the nearest city for each latitude and longitude combination.\n",
    "for coordinate in coordinates:\n",
    "    city = citipy.nearest_city(coordinate[0], coordinate[1]).city_name\n",
    "\n",
    "    # If the city is unique, then we will add it to the cities list.\n",
    "    if city not in cities:\n",
    "        cities.append(city)\n",
    "# Print the city count to confirm sufficient count.\n",
    "len(cities)"
   ]
  },
  {
   "cell_type": "code",
   "execution_count": 6,
   "id": "c3819aeb",
   "metadata": {},
   "outputs": [],
   "source": [
    "# Import the time library and the datetime module from the datetime library \n",
    "import time\n",
    "from datetime import datetime"
   ]
  },
  {
   "cell_type": "code",
   "execution_count": 7,
   "id": "41c7e097",
   "metadata": {},
   "outputs": [],
   "source": [
    "# Import the requests library.\n",
    "import requests\n",
    "\n",
    "# Import the API key.\n",
    "from config import weather_api_key\n"
   ]
  },
  {
   "cell_type": "code",
   "execution_count": 8,
   "id": "0072e0cd",
   "metadata": {},
   "outputs": [],
   "source": [
    "# Starting URL for Weather Map API Call.\n",
    "url = \"http://api.openweathermap.org/data/2.5/weather?units=Imperial&APPID=\" + weather_api_key\n"
   ]
  },
  {
   "cell_type": "code",
   "execution_count": 14,
   "id": "1b3ae601",
   "metadata": {},
   "outputs": [
    {
     "name": "stdout",
     "output_type": "stream",
     "text": [
      "Beginning Data Retrieval     \n",
      "-----------------------------\n",
      "-----------------------------\n",
      "Data Retrieval Complete      \n",
      "-----------------------------\n"
     ]
    }
   ],
   "source": [
    "# Create an empty list to hold the weather data.\n",
    "city_data = []\n",
    "# Print the beginning of the Loading.\n",
    "print(\"Beginning Data Retrieval     \")\n",
    "print(\"-----------------------------\")\n",
    "for i in range(len(cities)):\n",
    "\n",
    "    # Create endpoint URL with each city.\n",
    "    city_url = url + \"&q=\" + cities[i]\n",
    "    # Run an API request for each of the cities.\n",
    "    try:\n",
    "        # Parse the JSON and retrieve data.\n",
    "       city_weather = requests.get(city_url).json()\n",
    "        # Parse out the needed data.\n",
    "       city_name=cities[i]\n",
    "       city_lat = city_weather[\"coord\"][\"lat\"]\n",
    "       city_lng = city_weather[\"coord\"][\"lon\"]\n",
    "       city_max_temp = city_weather[\"main\"][\"temp_max\"]\n",
    "       city_humidity = city_weather[\"main\"][\"humidity\"]\n",
    "       city_clouds = city_weather[\"clouds\"][\"all\"]\n",
    "       city_wind = city_weather[\"wind\"][\"speed\"]\n",
    "       city_country = city_weather[\"sys\"][\"country\"]\n",
    "       city_description = city_weather[\"weather\"][0][\"description\"]\n",
    "        # Append the city information into city_data list.\n",
    "       city_data.append({\"City\": city_name,\n",
    "                        \"Country\": city_country,\n",
    "                         \"Lat\": city_lat,\n",
    "                         \"Lng\": city_lng,\n",
    "                        \"Max Temp\": city_max_temp,\n",
    "                        \"Humidity\": city_humidity,\n",
    "                         \"Cloudiness\": city_clouds,\n",
    "                        \"Wind Speed\": city_wind,\n",
    "                         \"Current Description\": city_description})\n",
    "\n",
    "# If an error is experienced, skip the city.\n",
    "    except: \n",
    "        pass\n",
    "# Indicate that Data Loading is complete.\n",
    "print(\"-----------------------------\")\n",
    "print(\"Data Retrieval Complete      \")\n",
    "print(\"-----------------------------\")\n"
   ]
  },
  {
   "cell_type": "code",
   "execution_count": 15,
   "id": "573958f4",
   "metadata": {},
   "outputs": [
    {
     "data": {
      "text/html": [
       "<div>\n",
       "<style scoped>\n",
       "    .dataframe tbody tr th:only-of-type {\n",
       "        vertical-align: middle;\n",
       "    }\n",
       "\n",
       "    .dataframe tbody tr th {\n",
       "        vertical-align: top;\n",
       "    }\n",
       "\n",
       "    .dataframe thead th {\n",
       "        text-align: right;\n",
       "    }\n",
       "</style>\n",
       "<table border=\"1\" class=\"dataframe\">\n",
       "  <thead>\n",
       "    <tr style=\"text-align: right;\">\n",
       "      <th></th>\n",
       "      <th>City</th>\n",
       "      <th>Country</th>\n",
       "      <th>Lat</th>\n",
       "      <th>Lng</th>\n",
       "      <th>Max Temp</th>\n",
       "      <th>Humidity</th>\n",
       "      <th>Cloudiness</th>\n",
       "      <th>Wind Speed</th>\n",
       "      <th>Current Description</th>\n",
       "    </tr>\n",
       "  </thead>\n",
       "  <tbody>\n",
       "    <tr>\n",
       "      <th>0</th>\n",
       "      <td>nanortalik</td>\n",
       "      <td>GL</td>\n",
       "      <td>60.1432</td>\n",
       "      <td>-45.2371</td>\n",
       "      <td>35.33</td>\n",
       "      <td>88</td>\n",
       "      <td>99</td>\n",
       "      <td>2.24</td>\n",
       "      <td>overcast clouds</td>\n",
       "    </tr>\n",
       "    <tr>\n",
       "      <th>1</th>\n",
       "      <td>castro</td>\n",
       "      <td>BR</td>\n",
       "      <td>-24.7911</td>\n",
       "      <td>-50.0119</td>\n",
       "      <td>55.11</td>\n",
       "      <td>98</td>\n",
       "      <td>100</td>\n",
       "      <td>5.88</td>\n",
       "      <td>overcast clouds</td>\n",
       "    </tr>\n",
       "    <tr>\n",
       "      <th>2</th>\n",
       "      <td>narsaq</td>\n",
       "      <td>GL</td>\n",
       "      <td>60.9167</td>\n",
       "      <td>-46.0500</td>\n",
       "      <td>50.22</td>\n",
       "      <td>69</td>\n",
       "      <td>93</td>\n",
       "      <td>6.22</td>\n",
       "      <td>overcast clouds</td>\n",
       "    </tr>\n",
       "    <tr>\n",
       "      <th>3</th>\n",
       "      <td>yellowknife</td>\n",
       "      <td>CA</td>\n",
       "      <td>62.4560</td>\n",
       "      <td>-114.3525</td>\n",
       "      <td>0.41</td>\n",
       "      <td>57</td>\n",
       "      <td>20</td>\n",
       "      <td>8.05</td>\n",
       "      <td>few clouds</td>\n",
       "    </tr>\n",
       "    <tr>\n",
       "      <th>4</th>\n",
       "      <td>te anau</td>\n",
       "      <td>NZ</td>\n",
       "      <td>-45.4167</td>\n",
       "      <td>167.7167</td>\n",
       "      <td>61.03</td>\n",
       "      <td>60</td>\n",
       "      <td>26</td>\n",
       "      <td>0.36</td>\n",
       "      <td>scattered clouds</td>\n",
       "    </tr>\n",
       "    <tr>\n",
       "      <th>5</th>\n",
       "      <td>mahebourg</td>\n",
       "      <td>MU</td>\n",
       "      <td>-20.4081</td>\n",
       "      <td>57.7000</td>\n",
       "      <td>76.24</td>\n",
       "      <td>94</td>\n",
       "      <td>75</td>\n",
       "      <td>18.41</td>\n",
       "      <td>broken clouds</td>\n",
       "    </tr>\n",
       "    <tr>\n",
       "      <th>6</th>\n",
       "      <td>namtsy</td>\n",
       "      <td>RU</td>\n",
       "      <td>62.7161</td>\n",
       "      <td>129.6658</td>\n",
       "      <td>18.21</td>\n",
       "      <td>95</td>\n",
       "      <td>100</td>\n",
       "      <td>8.68</td>\n",
       "      <td>light snow</td>\n",
       "    </tr>\n",
       "    <tr>\n",
       "      <th>7</th>\n",
       "      <td>mataura</td>\n",
       "      <td>NZ</td>\n",
       "      <td>-46.1927</td>\n",
       "      <td>168.8643</td>\n",
       "      <td>57.65</td>\n",
       "      <td>65</td>\n",
       "      <td>22</td>\n",
       "      <td>6.02</td>\n",
       "      <td>few clouds</td>\n",
       "    </tr>\n",
       "    <tr>\n",
       "      <th>8</th>\n",
       "      <td>natal</td>\n",
       "      <td>BR</td>\n",
       "      <td>-5.7950</td>\n",
       "      <td>-35.2094</td>\n",
       "      <td>82.62</td>\n",
       "      <td>78</td>\n",
       "      <td>20</td>\n",
       "      <td>9.22</td>\n",
       "      <td>few clouds</td>\n",
       "    </tr>\n",
       "    <tr>\n",
       "      <th>9</th>\n",
       "      <td>kapaa</td>\n",
       "      <td>US</td>\n",
       "      <td>22.0752</td>\n",
       "      <td>-159.3190</td>\n",
       "      <td>80.58</td>\n",
       "      <td>76</td>\n",
       "      <td>75</td>\n",
       "      <td>18.41</td>\n",
       "      <td>broken clouds</td>\n",
       "    </tr>\n",
       "  </tbody>\n",
       "</table>\n",
       "</div>"
      ],
      "text/plain": [
       "          City Country      Lat       Lng  Max Temp  Humidity  Cloudiness  \\\n",
       "0   nanortalik      GL  60.1432  -45.2371     35.33        88          99   \n",
       "1       castro      BR -24.7911  -50.0119     55.11        98         100   \n",
       "2       narsaq      GL  60.9167  -46.0500     50.22        69          93   \n",
       "3  yellowknife      CA  62.4560 -114.3525      0.41        57          20   \n",
       "4      te anau      NZ -45.4167  167.7167     61.03        60          26   \n",
       "5    mahebourg      MU -20.4081   57.7000     76.24        94          75   \n",
       "6       namtsy      RU  62.7161  129.6658     18.21        95         100   \n",
       "7      mataura      NZ -46.1927  168.8643     57.65        65          22   \n",
       "8        natal      BR  -5.7950  -35.2094     82.62        78          20   \n",
       "9        kapaa      US  22.0752 -159.3190     80.58        76          75   \n",
       "\n",
       "   Wind Speed Current Description  \n",
       "0        2.24     overcast clouds  \n",
       "1        5.88     overcast clouds  \n",
       "2        6.22     overcast clouds  \n",
       "3        8.05          few clouds  \n",
       "4        0.36    scattered clouds  \n",
       "5       18.41       broken clouds  \n",
       "6        8.68          light snow  \n",
       "7        6.02          few clouds  \n",
       "8        9.22          few clouds  \n",
       "9       18.41       broken clouds  "
      ]
     },
     "execution_count": 15,
     "metadata": {},
     "output_type": "execute_result"
    }
   ],
   "source": [
    "# Convert the array of dictionaries to a Pandas DataFrame.\n",
    "city_data_df = pd.DataFrame(city_data)\n",
    "city_data_df.head(10)"
   ]
  },
  {
   "cell_type": "code",
   "execution_count": 16,
   "id": "31e63dd9",
   "metadata": {},
   "outputs": [],
   "source": [
    "# Create the output file (CSV).\n",
    "output_data_file = \"Weather_Database/WeatherPy_Database.csv\"\n",
    "# Export the City_Data into a CSV.\n",
    "city_data_df.to_csv(output_data_file, index_label=\"City_ID\")\n"
   ]
  },
  {
   "cell_type": "code",
   "execution_count": null,
   "id": "9c17df51",
   "metadata": {},
   "outputs": [],
   "source": []
  }
 ],
 "metadata": {
  "kernelspec": {
   "display_name": "Python 3 (ipykernel)",
   "language": "python",
   "name": "python3"
  },
  "language_info": {
   "codemirror_mode": {
    "name": "ipython",
    "version": 3
   },
   "file_extension": ".py",
   "mimetype": "text/x-python",
   "name": "python",
   "nbconvert_exporter": "python",
   "pygments_lexer": "ipython3",
   "version": "3.9.7"
  }
 },
 "nbformat": 4,
 "nbformat_minor": 5
}
