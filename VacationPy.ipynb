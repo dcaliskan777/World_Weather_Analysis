{
 "cells": [
  {
   "cell_type": "code",
   "execution_count": 3,
   "id": "8c306b23",
   "metadata": {},
   "outputs": [],
   "source": [
    "# Import the dependencies.\n",
    "import pandas as pd\n",
    "import gmaps\n",
    "import requests\n",
    "# Import the API key.\n",
    "from config import g_key\n"
   ]
  },
  {
   "cell_type": "code",
   "execution_count": 2,
   "id": "34c9d8d4",
   "metadata": {},
   "outputs": [
    {
     "data": {
      "text/html": [
       "<div>\n",
       "<style scoped>\n",
       "    .dataframe tbody tr th:only-of-type {\n",
       "        vertical-align: middle;\n",
       "    }\n",
       "\n",
       "    .dataframe tbody tr th {\n",
       "        vertical-align: top;\n",
       "    }\n",
       "\n",
       "    .dataframe thead th {\n",
       "        text-align: right;\n",
       "    }\n",
       "</style>\n",
       "<table border=\"1\" class=\"dataframe\">\n",
       "  <thead>\n",
       "    <tr style=\"text-align: right;\">\n",
       "      <th></th>\n",
       "      <th>City_ID</th>\n",
       "      <th>City</th>\n",
       "      <th>Country</th>\n",
       "      <th>Date</th>\n",
       "      <th>Lat</th>\n",
       "      <th>Lng</th>\n",
       "      <th>Max Temp</th>\n",
       "      <th>Humidity</th>\n",
       "      <th>Cloudiness</th>\n",
       "      <th>Wind Speed</th>\n",
       "    </tr>\n",
       "  </thead>\n",
       "  <tbody>\n",
       "    <tr>\n",
       "      <th>0</th>\n",
       "      <td>0</td>\n",
       "      <td>Esperance</td>\n",
       "      <td>AU</td>\n",
       "      <td>2022-03-31 17:58:42</td>\n",
       "      <td>-33.8667</td>\n",
       "      <td>121.9000</td>\n",
       "      <td>64.24</td>\n",
       "      <td>79</td>\n",
       "      <td>100</td>\n",
       "      <td>19.06</td>\n",
       "    </tr>\n",
       "    <tr>\n",
       "      <th>1</th>\n",
       "      <td>1</td>\n",
       "      <td>Salalah</td>\n",
       "      <td>OM</td>\n",
       "      <td>2022-03-31 17:55:21</td>\n",
       "      <td>17.0151</td>\n",
       "      <td>54.0924</td>\n",
       "      <td>80.49</td>\n",
       "      <td>41</td>\n",
       "      <td>0</td>\n",
       "      <td>1.52</td>\n",
       "    </tr>\n",
       "    <tr>\n",
       "      <th>2</th>\n",
       "      <td>2</td>\n",
       "      <td>Pompeu</td>\n",
       "      <td>BR</td>\n",
       "      <td>2022-03-31 17:58:42</td>\n",
       "      <td>-19.2244</td>\n",
       "      <td>-44.9353</td>\n",
       "      <td>88.77</td>\n",
       "      <td>34</td>\n",
       "      <td>3</td>\n",
       "      <td>1.63</td>\n",
       "    </tr>\n",
       "    <tr>\n",
       "      <th>3</th>\n",
       "      <td>3</td>\n",
       "      <td>Omaruru</td>\n",
       "      <td>NaN</td>\n",
       "      <td>2022-03-31 17:58:43</td>\n",
       "      <td>-21.4333</td>\n",
       "      <td>15.9333</td>\n",
       "      <td>75.83</td>\n",
       "      <td>55</td>\n",
       "      <td>90</td>\n",
       "      <td>4.83</td>\n",
       "    </tr>\n",
       "    <tr>\n",
       "      <th>4</th>\n",
       "      <td>4</td>\n",
       "      <td>Arraial Do Cabo</td>\n",
       "      <td>BR</td>\n",
       "      <td>2022-03-31 17:58:43</td>\n",
       "      <td>-22.9661</td>\n",
       "      <td>-42.0278</td>\n",
       "      <td>84.16</td>\n",
       "      <td>78</td>\n",
       "      <td>20</td>\n",
       "      <td>12.66</td>\n",
       "    </tr>\n",
       "  </tbody>\n",
       "</table>\n",
       "</div>"
      ],
      "text/plain": [
       "   City_ID             City Country                 Date      Lat       Lng  \\\n",
       "0        0        Esperance      AU  2022-03-31 17:58:42 -33.8667  121.9000   \n",
       "1        1          Salalah      OM  2022-03-31 17:55:21  17.0151   54.0924   \n",
       "2        2           Pompeu      BR  2022-03-31 17:58:42 -19.2244  -44.9353   \n",
       "3        3          Omaruru     NaN  2022-03-31 17:58:43 -21.4333   15.9333   \n",
       "4        4  Arraial Do Cabo      BR  2022-03-31 17:58:43 -22.9661  -42.0278   \n",
       "\n",
       "   Max Temp  Humidity  Cloudiness  Wind Speed  \n",
       "0     64.24        79         100       19.06  \n",
       "1     80.49        41           0        1.52  \n",
       "2     88.77        34           3        1.63  \n",
       "3     75.83        55          90        4.83  \n",
       "4     84.16        78          20       12.66  "
      ]
     },
     "execution_count": 2,
     "metadata": {},
     "output_type": "execute_result"
    }
   ],
   "source": [
    "# Store the CSV you saved created in part one into a DataFrame.\n",
    "city_data_df = pd.read_csv(\"weather_data/cities.csv\")\n",
    "city_data_df.head()"
   ]
  },
  {
   "cell_type": "code",
   "execution_count": 5,
   "id": "7f87bdbc",
   "metadata": {},
   "outputs": [
    {
     "data": {
      "text/plain": [
       "City_ID         int64\n",
       "City           object\n",
       "Country        object\n",
       "Date           object\n",
       "Lat           float64\n",
       "Lng           float64\n",
       "Max Temp      float64\n",
       "Humidity        int64\n",
       "Cloudiness      int64\n",
       "Wind Speed    float64\n",
       "dtype: object"
      ]
     },
     "execution_count": 5,
     "metadata": {},
     "output_type": "execute_result"
    }
   ],
   "source": [
    "city_data_df.dtypes"
   ]
  },
  {
   "cell_type": "code",
   "execution_count": 6,
   "id": "e9cabc61",
   "metadata": {},
   "outputs": [],
   "source": [
    "# Configure gmaps to use your Google API key.\n",
    "gmaps.configure(api_key=g_key)"
   ]
  },
  {
   "cell_type": "markdown",
   "id": "0697e039",
   "metadata": {},
   "source": [
    "# Creating a Maximum Temperature Heatmap"
   ]
  },
  {
   "cell_type": "code",
   "execution_count": 13,
   "id": "c883af9b",
   "metadata": {},
   "outputs": [],
   "source": [
    "# Get the maximum temperature.\n",
    "max_temp = city_data_df[\"Max Temp\"]\n",
    "temps = []\n",
    "for temp in max_temp:\n",
    "    temps.append(max(temp, 0))"
   ]
  },
  {
   "cell_type": "code",
   "execution_count": 15,
   "id": "b36dc0e3",
   "metadata": {},
   "outputs": [
    {
     "data": {
      "application/vnd.jupyter.widget-view+json": {
       "model_id": "9befdef454ee40909bbd2aea665abbca",
       "version_major": 2,
       "version_minor": 0
      },
      "text/plain": [
       "Figure(layout=FigureLayout(height='420px'))"
      ]
     },
     "metadata": {},
     "output_type": "display_data"
    }
   ],
   "source": [
    "\n",
    "# Heatmap of temperature\n",
    "# Get the latitude and longitude.\n",
    "locations = city_data_df[[\"Lat\", \"Lng\"]]\n",
    "# Get the maximum temperature.\n",
    "max_temp = city_data_df[\"Max Temp\"]\n",
    "# Assign the figure variable.\n",
    "fig = gmaps.figure()\n",
    "# Assign the heatmap variable.\n",
    "heat_layer = gmaps.heatmap_layer(locations, weights=temps)\n",
    "# Add the heatmap layer.\n",
    "fig.add_layer(heat_layer)\n",
    "\n",
    "# Call the figure to plot the data.\n",
    "fig"
   ]
  },
  {
   "cell_type": "markdown",
   "id": "e0436cd6",
   "metadata": {},
   "source": [
    "## Adjust Heatmap Zoom, Intensity, and Point Radius"
   ]
  },
  {
   "cell_type": "code",
   "execution_count": 20,
   "id": "55dbdb16",
   "metadata": {},
   "outputs": [
    {
     "data": {
      "application/vnd.jupyter.widget-view+json": {
       "model_id": "8aad7aa915504392bae326505d91fbfb",
       "version_major": 2,
       "version_minor": 0
      },
      "text/plain": [
       "Figure(layout=FigureLayout(height='420px'))"
      ]
     },
     "metadata": {},
     "output_type": "display_data"
    }
   ],
   "source": [
    "# Heatmap of temperature\n",
    "# Get the latitude and longitude.\n",
    "locations = city_data_df[[\"Lat\", \"Lng\"]]\n",
    "# Get the maximum temperature.\n",
    "max_temp = city_data_df[\"Max Temp\"]\n",
    "# Assign the figure variable.\n",
    "fig = gmaps.figure(center=(30.0, 31.0), zoom_level=1.5)\n",
    "# Assign the heatmap variable.\n",
    "heat_layer = gmaps.heatmap_layer(locations, weights=temps)\n",
    "# Add the heatmap layer.\n",
    "fig.add_layer(heat_layer)\n",
    "# Call the figure to plot the data.\n",
    "fig"
   ]
  },
  {
   "cell_type": "code",
   "execution_count": 22,
   "id": "36359e43",
   "metadata": {},
   "outputs": [
    {
     "data": {
      "application/vnd.jupyter.widget-view+json": {
       "model_id": "3aa3c162e3694c3380db20e0328ba551",
       "version_major": 2,
       "version_minor": 0
      },
      "text/plain": [
       "Figure(layout=FigureLayout(height='420px'))"
      ]
     },
     "metadata": {},
     "output_type": "display_data"
    }
   ],
   "source": [
    "# Heatmap of temperature\n",
    "# Get the latitude and longitude.\n",
    "locations = city_data_df[[\"Lat\", \"Lng\"]]\n",
    "# Get the maximum temperature.\n",
    "max_temp = city_data_df[\"Max Temp\"]\n",
    "# Assign the figure variable.\n",
    "fig = gmaps.figure(center=(30.0, 31.0), zoom_level=1.5)\n",
    "# Assign the heatmap variable.\n",
    "heat_layer = gmaps.heatmap_layer(locations, weights=[max(temp,0) for temp in max_temp],dissipating=False,max_intensity=300,point_radius=4)\n",
    "# Add the heatmap layer.\n",
    "fig.add_layer(heat_layer)\n",
    "# Call the figure to plot the data.\n",
    "fig"
   ]
  },
  {
   "cell_type": "markdown",
   "id": "72a89bd8",
   "metadata": {},
   "source": [
    "# Create a Percent Humidity Heatmap"
   ]
  },
  {
   "cell_type": "code",
   "execution_count": 23,
   "id": "ae2b0f07",
   "metadata": {},
   "outputs": [
    {
     "data": {
      "application/vnd.jupyter.widget-view+json": {
       "model_id": "adf61e21a2284b378f81165280383fd4",
       "version_major": 2,
       "version_minor": 0
      },
      "text/plain": [
       "Figure(layout=FigureLayout(height='420px'))"
      ]
     },
     "metadata": {},
     "output_type": "display_data"
    }
   ],
   "source": [
    "# Heatmap of percent humidity\n",
    "locations = city_data_df[[\"Lat\", \"Lng\"]]\n",
    "humidity = city_data_df[\"Humidity\"]\n",
    "fig = gmaps.figure(center=(30.0, 31.0), zoom_level=1.5)\n",
    "heat_layer = gmaps.heatmap_layer(locations, weights=humidity, dissipating=False, max_intensity=300, point_radius=4)\n",
    "\n",
    "fig.add_layer(heat_layer)\n",
    "# Call the figure to plot the data.\n",
    "fig"
   ]
  },
  {
   "cell_type": "markdown",
   "id": "f7b56758",
   "metadata": {},
   "source": [
    "# Create a Percent Cloudiness Heatmap"
   ]
  },
  {
   "cell_type": "code",
   "execution_count": 24,
   "id": "cb0f8637",
   "metadata": {},
   "outputs": [
    {
     "data": {
      "application/vnd.jupyter.widget-view+json": {
       "model_id": "35e966c6153a47e19dba7e7931e92d2a",
       "version_major": 2,
       "version_minor": 0
      },
      "text/plain": [
       "Figure(layout=FigureLayout(height='420px'))"
      ]
     },
     "metadata": {},
     "output_type": "display_data"
    }
   ],
   "source": [
    "# Heatmap of percent cloudiness\n",
    "locations = city_data_df[[\"Lat\", \"Lng\"]]\n",
    "clouds = city_data_df[\"Cloudiness\"]\n",
    "fig = gmaps.figure(center=(30.0, 31.0), zoom_level=1.5)\n",
    "heat_layer = gmaps.heatmap_layer(locations, weights=clouds, dissipating=False, max_intensity=300, point_radius=4)\n",
    "\n",
    "fig.add_layer(heat_layer)\n",
    "# Call the figure to plot the data.\n",
    "fig"
   ]
  },
  {
   "cell_type": "markdown",
   "id": "82be8aa3",
   "metadata": {},
   "source": [
    "# Create a Wind Speed Heatmap"
   ]
  },
  {
   "cell_type": "code",
   "execution_count": 25,
   "id": "2d95a50c",
   "metadata": {},
   "outputs": [
    {
     "data": {
      "application/vnd.jupyter.widget-view+json": {
       "model_id": "f1dc479a4fa04b6e9725376d1bb8267b",
       "version_major": 2,
       "version_minor": 0
      },
      "text/plain": [
       "Figure(layout=FigureLayout(height='420px'))"
      ]
     },
     "metadata": {},
     "output_type": "display_data"
    }
   ],
   "source": [
    "# Heatmap of wind speed\n",
    "locations = city_data_df[[\"Lat\", \"Lng\"]]\n",
    "wind = city_data_df[\"Wind Speed\"]\n",
    "fig = gmaps.figure(center=(30.0, 31.0), zoom_level=1.5)\n",
    "heat_layer = gmaps.heatmap_layer(locations, weights=wind, dissipating=False, max_intensity=300, point_radius=4)\n",
    "\n",
    "fig.add_layer(heat_layer)\n",
    "# Call the figure to plot the data.\n",
    "fig"
   ]
  },
  {
   "cell_type": "markdown",
   "id": "18265a2e",
   "metadata": {},
   "source": [
    "# Creating Prefered Cities Data Frame"
   ]
  },
  {
   "cell_type": "code",
   "execution_count": 45,
   "id": "42e5e1d7",
   "metadata": {},
   "outputs": [
    {
     "name": "stdout",
     "output_type": "stream",
     "text": [
      "What is the minimum temperature you would like for your trip? 75\n",
      "What is the maximum temperature you would like for your trip? 90\n"
     ]
    }
   ],
   "source": [
    "# Ask the customer to add a minimum and maximum temperature value.\n",
    "min_temp = float(input(\"What is the minimum temperature you would like for your trip? \"))\n",
    "max_temp = float(input(\"What is the maximum temperature you would like for your trip? \"))\n"
   ]
  },
  {
   "cell_type": "code",
   "execution_count": 46,
   "id": "c5716e39",
   "metadata": {},
   "outputs": [
    {
     "data": {
      "text/html": [
       "<div>\n",
       "<style scoped>\n",
       "    .dataframe tbody tr th:only-of-type {\n",
       "        vertical-align: middle;\n",
       "    }\n",
       "\n",
       "    .dataframe tbody tr th {\n",
       "        vertical-align: top;\n",
       "    }\n",
       "\n",
       "    .dataframe thead th {\n",
       "        text-align: right;\n",
       "    }\n",
       "</style>\n",
       "<table border=\"1\" class=\"dataframe\">\n",
       "  <thead>\n",
       "    <tr style=\"text-align: right;\">\n",
       "      <th></th>\n",
       "      <th>City_ID</th>\n",
       "      <th>City</th>\n",
       "      <th>Country</th>\n",
       "      <th>Date</th>\n",
       "      <th>Lat</th>\n",
       "      <th>Lng</th>\n",
       "      <th>Max Temp</th>\n",
       "      <th>Humidity</th>\n",
       "      <th>Cloudiness</th>\n",
       "      <th>Wind Speed</th>\n",
       "    </tr>\n",
       "  </thead>\n",
       "  <tbody>\n",
       "    <tr>\n",
       "      <th>1</th>\n",
       "      <td>1</td>\n",
       "      <td>Salalah</td>\n",
       "      <td>OM</td>\n",
       "      <td>2022-03-31 17:55:21</td>\n",
       "      <td>17.0151</td>\n",
       "      <td>54.0924</td>\n",
       "      <td>80.49</td>\n",
       "      <td>41</td>\n",
       "      <td>0</td>\n",
       "      <td>1.52</td>\n",
       "    </tr>\n",
       "    <tr>\n",
       "      <th>2</th>\n",
       "      <td>2</td>\n",
       "      <td>Pompeu</td>\n",
       "      <td>BR</td>\n",
       "      <td>2022-03-31 17:58:42</td>\n",
       "      <td>-19.2244</td>\n",
       "      <td>-44.9353</td>\n",
       "      <td>88.77</td>\n",
       "      <td>34</td>\n",
       "      <td>3</td>\n",
       "      <td>1.63</td>\n",
       "    </tr>\n",
       "    <tr>\n",
       "      <th>3</th>\n",
       "      <td>3</td>\n",
       "      <td>Omaruru</td>\n",
       "      <td>NaN</td>\n",
       "      <td>2022-03-31 17:58:43</td>\n",
       "      <td>-21.4333</td>\n",
       "      <td>15.9333</td>\n",
       "      <td>75.83</td>\n",
       "      <td>55</td>\n",
       "      <td>90</td>\n",
       "      <td>4.83</td>\n",
       "    </tr>\n",
       "    <tr>\n",
       "      <th>4</th>\n",
       "      <td>4</td>\n",
       "      <td>Arraial Do Cabo</td>\n",
       "      <td>BR</td>\n",
       "      <td>2022-03-31 17:58:43</td>\n",
       "      <td>-22.9661</td>\n",
       "      <td>-42.0278</td>\n",
       "      <td>84.16</td>\n",
       "      <td>78</td>\n",
       "      <td>20</td>\n",
       "      <td>12.66</td>\n",
       "    </tr>\n",
       "    <tr>\n",
       "      <th>6</th>\n",
       "      <td>6</td>\n",
       "      <td>Hilo</td>\n",
       "      <td>US</td>\n",
       "      <td>2022-03-31 17:57:12</td>\n",
       "      <td>19.7297</td>\n",
       "      <td>-155.0900</td>\n",
       "      <td>75.61</td>\n",
       "      <td>92</td>\n",
       "      <td>1</td>\n",
       "      <td>1.01</td>\n",
       "    </tr>\n",
       "    <tr>\n",
       "      <th>10</th>\n",
       "      <td>10</td>\n",
       "      <td>Kapaa</td>\n",
       "      <td>US</td>\n",
       "      <td>2022-03-31 17:55:35</td>\n",
       "      <td>22.0752</td>\n",
       "      <td>-159.3190</td>\n",
       "      <td>75.18</td>\n",
       "      <td>91</td>\n",
       "      <td>12</td>\n",
       "      <td>3.00</td>\n",
       "    </tr>\n",
       "    <tr>\n",
       "      <th>15</th>\n",
       "      <td>15</td>\n",
       "      <td>Nauta</td>\n",
       "      <td>PE</td>\n",
       "      <td>2022-03-31 17:58:47</td>\n",
       "      <td>-4.5061</td>\n",
       "      <td>-73.5757</td>\n",
       "      <td>89.49</td>\n",
       "      <td>56</td>\n",
       "      <td>95</td>\n",
       "      <td>2.95</td>\n",
       "    </tr>\n",
       "    <tr>\n",
       "      <th>24</th>\n",
       "      <td>24</td>\n",
       "      <td>Rikitea</td>\n",
       "      <td>PF</td>\n",
       "      <td>2022-03-31 17:58:50</td>\n",
       "      <td>-23.1203</td>\n",
       "      <td>-134.9692</td>\n",
       "      <td>77.74</td>\n",
       "      <td>68</td>\n",
       "      <td>60</td>\n",
       "      <td>16.98</td>\n",
       "    </tr>\n",
       "    <tr>\n",
       "      <th>31</th>\n",
       "      <td>31</td>\n",
       "      <td>Saint-Philippe</td>\n",
       "      <td>RE</td>\n",
       "      <td>2022-03-31 17:58:52</td>\n",
       "      <td>-21.3585</td>\n",
       "      <td>55.7679</td>\n",
       "      <td>78.39</td>\n",
       "      <td>72</td>\n",
       "      <td>75</td>\n",
       "      <td>14.63</td>\n",
       "    </tr>\n",
       "    <tr>\n",
       "      <th>32</th>\n",
       "      <td>32</td>\n",
       "      <td>Araxa</td>\n",
       "      <td>BR</td>\n",
       "      <td>2022-03-31 17:55:06</td>\n",
       "      <td>-19.5933</td>\n",
       "      <td>-46.9406</td>\n",
       "      <td>85.96</td>\n",
       "      <td>45</td>\n",
       "      <td>40</td>\n",
       "      <td>8.05</td>\n",
       "    </tr>\n",
       "  </tbody>\n",
       "</table>\n",
       "</div>"
      ],
      "text/plain": [
       "    City_ID             City Country                 Date      Lat       Lng  \\\n",
       "1         1          Salalah      OM  2022-03-31 17:55:21  17.0151   54.0924   \n",
       "2         2           Pompeu      BR  2022-03-31 17:58:42 -19.2244  -44.9353   \n",
       "3         3          Omaruru     NaN  2022-03-31 17:58:43 -21.4333   15.9333   \n",
       "4         4  Arraial Do Cabo      BR  2022-03-31 17:58:43 -22.9661  -42.0278   \n",
       "6         6             Hilo      US  2022-03-31 17:57:12  19.7297 -155.0900   \n",
       "10       10            Kapaa      US  2022-03-31 17:55:35  22.0752 -159.3190   \n",
       "15       15            Nauta      PE  2022-03-31 17:58:47  -4.5061  -73.5757   \n",
       "24       24          Rikitea      PF  2022-03-31 17:58:50 -23.1203 -134.9692   \n",
       "31       31   Saint-Philippe      RE  2022-03-31 17:58:52 -21.3585   55.7679   \n",
       "32       32            Araxa      BR  2022-03-31 17:55:06 -19.5933  -46.9406   \n",
       "\n",
       "    Max Temp  Humidity  Cloudiness  Wind Speed  \n",
       "1      80.49        41           0        1.52  \n",
       "2      88.77        34           3        1.63  \n",
       "3      75.83        55          90        4.83  \n",
       "4      84.16        78          20       12.66  \n",
       "6      75.61        92           1        1.01  \n",
       "10     75.18        91          12        3.00  \n",
       "15     89.49        56          95        2.95  \n",
       "24     77.74        68          60       16.98  \n",
       "31     78.39        72          75       14.63  \n",
       "32     85.96        45          40        8.05  "
      ]
     },
     "execution_count": 46,
     "metadata": {},
     "output_type": "execute_result"
    }
   ],
   "source": [
    "# Filter the dataset to find the cities that fit the criteria.\n",
    "preferred_cities_df = city_data_df.loc[(city_data_df[\"Max Temp\"] <= max_temp) & \\\n",
    "                                       (city_data_df[\"Max Temp\"] >= min_temp)]\n",
    "preferred_cities_df.head(10)"
   ]
  },
  {
   "cell_type": "code",
   "execution_count": 47,
   "id": "31f6a8cb",
   "metadata": {},
   "outputs": [
    {
     "data": {
      "text/plain": [
       "City_ID       165\n",
       "City          165\n",
       "Country       164\n",
       "Date          165\n",
       "Lat           165\n",
       "Lng           165\n",
       "Max Temp      165\n",
       "Humidity      165\n",
       "Cloudiness    165\n",
       "Wind Speed    165\n",
       "dtype: int64"
      ]
     },
     "execution_count": 47,
     "metadata": {},
     "output_type": "execute_result"
    }
   ],
   "source": [
    "preferred_cities_df.count()"
   ]
  },
  {
   "cell_type": "code",
   "execution_count": 48,
   "id": "06c441da",
   "metadata": {},
   "outputs": [
    {
     "data": {
      "text/plain": [
       "City_ID       0\n",
       "City          0\n",
       "Country       1\n",
       "Date          0\n",
       "Lat           0\n",
       "Lng           0\n",
       "Max Temp      0\n",
       "Humidity      0\n",
       "Cloudiness    0\n",
       "Wind Speed    0\n",
       "dtype: int64"
      ]
     },
     "execution_count": 48,
     "metadata": {},
     "output_type": "execute_result"
    }
   ],
   "source": [
    "preferred_cities_df.isnull().sum()"
   ]
  },
  {
   "cell_type": "code",
   "execution_count": 49,
   "id": "adac63d7",
   "metadata": {},
   "outputs": [],
   "source": [
    "preferred_cities_df=preferred_cities_df.dropna()"
   ]
  },
  {
   "cell_type": "code",
   "execution_count": 50,
   "id": "7e9e0fe2",
   "metadata": {},
   "outputs": [
    {
     "data": {
      "text/plain": [
       "City_ID       164\n",
       "City          164\n",
       "Country       164\n",
       "Date          164\n",
       "Lat           164\n",
       "Lng           164\n",
       "Max Temp      164\n",
       "Humidity      164\n",
       "Cloudiness    164\n",
       "Wind Speed    164\n",
       "dtype: int64"
      ]
     },
     "execution_count": 50,
     "metadata": {},
     "output_type": "execute_result"
    }
   ],
   "source": [
    "preferred_cities_df.count()"
   ]
  },
  {
   "cell_type": "markdown",
   "id": "492b3ac7",
   "metadata": {},
   "source": [
    "# Map Vacation Criteria"
   ]
  },
  {
   "cell_type": "markdown",
   "id": "24e88b24",
   "metadata": {},
   "source": [
    "## Getting Travel Destinations"
   ]
  },
  {
   "cell_type": "code",
   "execution_count": 51,
   "id": "255ed3b7",
   "metadata": {},
   "outputs": [
    {
     "data": {
      "text/html": [
       "<div>\n",
       "<style scoped>\n",
       "    .dataframe tbody tr th:only-of-type {\n",
       "        vertical-align: middle;\n",
       "    }\n",
       "\n",
       "    .dataframe tbody tr th {\n",
       "        vertical-align: top;\n",
       "    }\n",
       "\n",
       "    .dataframe thead th {\n",
       "        text-align: right;\n",
       "    }\n",
       "</style>\n",
       "<table border=\"1\" class=\"dataframe\">\n",
       "  <thead>\n",
       "    <tr style=\"text-align: right;\">\n",
       "      <th></th>\n",
       "      <th>City</th>\n",
       "      <th>Country</th>\n",
       "      <th>Max Temp</th>\n",
       "      <th>Lat</th>\n",
       "      <th>Lng</th>\n",
       "      <th>Hotel Name</th>\n",
       "    </tr>\n",
       "  </thead>\n",
       "  <tbody>\n",
       "    <tr>\n",
       "      <th>1</th>\n",
       "      <td>Salalah</td>\n",
       "      <td>OM</td>\n",
       "      <td>80.49</td>\n",
       "      <td>17.0151</td>\n",
       "      <td>54.0924</td>\n",
       "      <td></td>\n",
       "    </tr>\n",
       "    <tr>\n",
       "      <th>2</th>\n",
       "      <td>Pompeu</td>\n",
       "      <td>BR</td>\n",
       "      <td>88.77</td>\n",
       "      <td>-19.2244</td>\n",
       "      <td>-44.9353</td>\n",
       "      <td></td>\n",
       "    </tr>\n",
       "    <tr>\n",
       "      <th>4</th>\n",
       "      <td>Arraial Do Cabo</td>\n",
       "      <td>BR</td>\n",
       "      <td>84.16</td>\n",
       "      <td>-22.9661</td>\n",
       "      <td>-42.0278</td>\n",
       "      <td></td>\n",
       "    </tr>\n",
       "    <tr>\n",
       "      <th>6</th>\n",
       "      <td>Hilo</td>\n",
       "      <td>US</td>\n",
       "      <td>75.61</td>\n",
       "      <td>19.7297</td>\n",
       "      <td>-155.0900</td>\n",
       "      <td></td>\n",
       "    </tr>\n",
       "    <tr>\n",
       "      <th>10</th>\n",
       "      <td>Kapaa</td>\n",
       "      <td>US</td>\n",
       "      <td>75.18</td>\n",
       "      <td>22.0752</td>\n",
       "      <td>-159.3190</td>\n",
       "      <td></td>\n",
       "    </tr>\n",
       "    <tr>\n",
       "      <th>15</th>\n",
       "      <td>Nauta</td>\n",
       "      <td>PE</td>\n",
       "      <td>89.49</td>\n",
       "      <td>-4.5061</td>\n",
       "      <td>-73.5757</td>\n",
       "      <td></td>\n",
       "    </tr>\n",
       "    <tr>\n",
       "      <th>24</th>\n",
       "      <td>Rikitea</td>\n",
       "      <td>PF</td>\n",
       "      <td>77.74</td>\n",
       "      <td>-23.1203</td>\n",
       "      <td>-134.9692</td>\n",
       "      <td></td>\n",
       "    </tr>\n",
       "    <tr>\n",
       "      <th>31</th>\n",
       "      <td>Saint-Philippe</td>\n",
       "      <td>RE</td>\n",
       "      <td>78.39</td>\n",
       "      <td>-21.3585</td>\n",
       "      <td>55.7679</td>\n",
       "      <td></td>\n",
       "    </tr>\n",
       "    <tr>\n",
       "      <th>32</th>\n",
       "      <td>Araxa</td>\n",
       "      <td>BR</td>\n",
       "      <td>85.96</td>\n",
       "      <td>-19.5933</td>\n",
       "      <td>-46.9406</td>\n",
       "      <td></td>\n",
       "    </tr>\n",
       "    <tr>\n",
       "      <th>33</th>\n",
       "      <td>Meulaboh</td>\n",
       "      <td>ID</td>\n",
       "      <td>77.52</td>\n",
       "      <td>4.1363</td>\n",
       "      <td>96.1285</td>\n",
       "      <td></td>\n",
       "    </tr>\n",
       "  </tbody>\n",
       "</table>\n",
       "</div>"
      ],
      "text/plain": [
       "               City Country  Max Temp      Lat       Lng Hotel Name\n",
       "1           Salalah      OM     80.49  17.0151   54.0924           \n",
       "2            Pompeu      BR     88.77 -19.2244  -44.9353           \n",
       "4   Arraial Do Cabo      BR     84.16 -22.9661  -42.0278           \n",
       "6              Hilo      US     75.61  19.7297 -155.0900           \n",
       "10            Kapaa      US     75.18  22.0752 -159.3190           \n",
       "15            Nauta      PE     89.49  -4.5061  -73.5757           \n",
       "24          Rikitea      PF     77.74 -23.1203 -134.9692           \n",
       "31   Saint-Philippe      RE     78.39 -21.3585   55.7679           \n",
       "32            Araxa      BR     85.96 -19.5933  -46.9406           \n",
       "33         Meulaboh      ID     77.52   4.1363   96.1285           "
      ]
     },
     "execution_count": 51,
     "metadata": {},
     "output_type": "execute_result"
    }
   ],
   "source": [
    "# Create DataFrame called hotel_df to store hotel names along with city, country, max temp, and coordinates.\n",
    "hotel_df = preferred_cities_df[[\"City\", \"Country\", \"Max Temp\", \"Lat\", \"Lng\"]].copy()\n",
    "hotel_df[\"Hotel Name\"] = \"\"\n",
    "hotel_df.head(10)"
   ]
  },
  {
   "cell_type": "markdown",
   "id": "b013e3b1",
   "metadata": {},
   "source": [
    "## Retrieving Hotels from a Nearby Search"
   ]
  },
  {
   "cell_type": "markdown",
   "id": "00a83964",
   "metadata": {},
   "source": [
    "### Setting the Parameters for a Nearby Search"
   ]
  },
  {
   "cell_type": "code",
   "execution_count": 69,
   "id": "00349f35",
   "metadata": {},
   "outputs": [],
   "source": [
    "# Set parameters to search for a hotel.\n",
    "params = {\n",
    "    \"radius\": 5000,\n",
    "    \"type\": \"lodging\",\n",
    "    \"key\": g_key,\n",
    "    \"location\":\"\"\n",
    "}"
   ]
  },
  {
   "cell_type": "markdown",
   "id": "1fe6a1b7",
   "metadata": {},
   "source": [
    "### Iterate Through hotel_df DataFrame"
   ]
  },
  {
   "cell_type": "code",
   "execution_count": 74,
   "id": "155fff60",
   "metadata": {
    "scrolled": true
   },
   "outputs": [
    {
     "name": "stdout",
     "output_type": "stream",
     "text": [
      "Hotel not found... skipping.\n",
      "Hotel not found... skipping.\n",
      "Hotel not found... skipping.\n",
      "Hotel not found... skipping.\n",
      "Hotel not found... skipping.\n",
      "Hotel not found... skipping.\n",
      "Hotel not found... skipping.\n"
     ]
    }
   ],
   "source": [
    "# Iterate through the DataFrame.\n",
    "for index, row in hotel_df.iterrows():\n",
    "    # Get the latitude and longitude.\n",
    "    lat = row[\"Lat\"]\n",
    "    lng = row[\"Lng\"]\n",
    "\n",
    "    # Add the latitude and longitude to location key for the params dictionary.\n",
    "    params[\"location\"] = f\"{lat},{lng}\"\n",
    "\n",
    "    # Use the search term: \"lodging\" and our latitude and longitude.\n",
    "    base_url = \"https://maps.googleapis.com/maps/api/place/nearbysearch/json\"\n",
    "    # Make request and get the JSON data from the search.\n",
    "    hotels = requests.get(base_url, params=params).json()\n",
    "    # Grab the first hotel from the results and store the name.\n",
    "    try:\n",
    "        hotel_df.loc[index, \"Hotel Name\"] = hotels[\"results\"][0][\"name\"]    \n",
    "    except IndexError:\n",
    "        print(\"Hotel not found... skipping.\")\n"
   ]
  },
  {
   "cell_type": "code",
   "execution_count": 76,
   "id": "73ac2400",
   "metadata": {},
   "outputs": [
    {
     "data": {
      "text/html": [
       "<div>\n",
       "<style scoped>\n",
       "    .dataframe tbody tr th:only-of-type {\n",
       "        vertical-align: middle;\n",
       "    }\n",
       "\n",
       "    .dataframe tbody tr th {\n",
       "        vertical-align: top;\n",
       "    }\n",
       "\n",
       "    .dataframe thead th {\n",
       "        text-align: right;\n",
       "    }\n",
       "</style>\n",
       "<table border=\"1\" class=\"dataframe\">\n",
       "  <thead>\n",
       "    <tr style=\"text-align: right;\">\n",
       "      <th></th>\n",
       "      <th>City</th>\n",
       "      <th>Country</th>\n",
       "      <th>Max Temp</th>\n",
       "      <th>Lat</th>\n",
       "      <th>Lng</th>\n",
       "      <th>Hotel Name</th>\n",
       "    </tr>\n",
       "  </thead>\n",
       "  <tbody>\n",
       "    <tr>\n",
       "      <th>1</th>\n",
       "      <td>Salalah</td>\n",
       "      <td>OM</td>\n",
       "      <td>80.49</td>\n",
       "      <td>17.0151</td>\n",
       "      <td>54.0924</td>\n",
       "      <td>HAMDAN PLAZA HOTEL SALALAH, an HTG Hotel</td>\n",
       "    </tr>\n",
       "    <tr>\n",
       "      <th>2</th>\n",
       "      <td>Pompeu</td>\n",
       "      <td>BR</td>\n",
       "      <td>88.77</td>\n",
       "      <td>-19.2244</td>\n",
       "      <td>-44.9353</td>\n",
       "      <td>Marriott's Ko Olina Beach Club</td>\n",
       "    </tr>\n",
       "    <tr>\n",
       "      <th>4</th>\n",
       "      <td>Arraial Do Cabo</td>\n",
       "      <td>BR</td>\n",
       "      <td>84.16</td>\n",
       "      <td>-22.9661</td>\n",
       "      <td>-42.0278</td>\n",
       "      <td>Pousada Porto Praia</td>\n",
       "    </tr>\n",
       "    <tr>\n",
       "      <th>6</th>\n",
       "      <td>Hilo</td>\n",
       "      <td>US</td>\n",
       "      <td>75.61</td>\n",
       "      <td>19.7297</td>\n",
       "      <td>-155.0900</td>\n",
       "      <td>Hilo Hawaiian Hotel</td>\n",
       "    </tr>\n",
       "    <tr>\n",
       "      <th>10</th>\n",
       "      <td>Kapaa</td>\n",
       "      <td>US</td>\n",
       "      <td>75.18</td>\n",
       "      <td>22.0752</td>\n",
       "      <td>-159.3190</td>\n",
       "      <td>Sheraton Kauai Coconut Beach Resort</td>\n",
       "    </tr>\n",
       "    <tr>\n",
       "      <th>15</th>\n",
       "      <td>Nauta</td>\n",
       "      <td>PE</td>\n",
       "      <td>89.49</td>\n",
       "      <td>-4.5061</td>\n",
       "      <td>-73.5757</td>\n",
       "      <td>Amazon Exploring Expedition - Eretzen Tá Lodge</td>\n",
       "    </tr>\n",
       "    <tr>\n",
       "      <th>24</th>\n",
       "      <td>Rikitea</td>\n",
       "      <td>PF</td>\n",
       "      <td>77.74</td>\n",
       "      <td>-23.1203</td>\n",
       "      <td>-134.9692</td>\n",
       "      <td>People ThankYou</td>\n",
       "    </tr>\n",
       "    <tr>\n",
       "      <th>31</th>\n",
       "      <td>Saint-Philippe</td>\n",
       "      <td>RE</td>\n",
       "      <td>78.39</td>\n",
       "      <td>-21.3585</td>\n",
       "      <td>55.7679</td>\n",
       "      <td>Chambres d'hôte \"La Trinité\"</td>\n",
       "    </tr>\n",
       "    <tr>\n",
       "      <th>32</th>\n",
       "      <td>Araxa</td>\n",
       "      <td>BR</td>\n",
       "      <td>85.96</td>\n",
       "      <td>-19.5933</td>\n",
       "      <td>-46.9406</td>\n",
       "      <td>Plaza Inn Flat Araxá</td>\n",
       "    </tr>\n",
       "    <tr>\n",
       "      <th>33</th>\n",
       "      <td>Meulaboh</td>\n",
       "      <td>ID</td>\n",
       "      <td>77.52</td>\n",
       "      <td>4.1363</td>\n",
       "      <td>96.1285</td>\n",
       "      <td>Kost Pria</td>\n",
       "    </tr>\n",
       "  </tbody>\n",
       "</table>\n",
       "</div>"
      ],
      "text/plain": [
       "               City Country  Max Temp      Lat       Lng  \\\n",
       "1           Salalah      OM     80.49  17.0151   54.0924   \n",
       "2            Pompeu      BR     88.77 -19.2244  -44.9353   \n",
       "4   Arraial Do Cabo      BR     84.16 -22.9661  -42.0278   \n",
       "6              Hilo      US     75.61  19.7297 -155.0900   \n",
       "10            Kapaa      US     75.18  22.0752 -159.3190   \n",
       "15            Nauta      PE     89.49  -4.5061  -73.5757   \n",
       "24          Rikitea      PF     77.74 -23.1203 -134.9692   \n",
       "31   Saint-Philippe      RE     78.39 -21.3585   55.7679   \n",
       "32            Araxa      BR     85.96 -19.5933  -46.9406   \n",
       "33         Meulaboh      ID     77.52   4.1363   96.1285   \n",
       "\n",
       "                                        Hotel Name  \n",
       "1         HAMDAN PLAZA HOTEL SALALAH, an HTG Hotel  \n",
       "2                   Marriott's Ko Olina Beach Club  \n",
       "4                              Pousada Porto Praia  \n",
       "6                              Hilo Hawaiian Hotel  \n",
       "10             Sheraton Kauai Coconut Beach Resort  \n",
       "15  Amazon Exploring Expedition - Eretzen Tá Lodge  \n",
       "24                                 People ThankYou  \n",
       "31                    Chambres d'hôte \"La Trinité\"  \n",
       "32                            Plaza Inn Flat Araxá  \n",
       "33                                       Kost Pria  "
      ]
     },
     "execution_count": 76,
     "metadata": {},
     "output_type": "execute_result"
    }
   ],
   "source": [
    "hotel_df.head(10)"
   ]
  },
  {
   "cell_type": "markdown",
   "id": "c97556d9",
   "metadata": {},
   "source": [
    "## Creating a Maximum Temperature Heatmap from the hotel_df"
   ]
  },
  {
   "cell_type": "code",
   "execution_count": 77,
   "id": "f34a06a2",
   "metadata": {},
   "outputs": [
    {
     "data": {
      "application/vnd.jupyter.widget-view+json": {
       "model_id": "1ccc615066754ad0b4c1c17b16aa5975",
       "version_major": 2,
       "version_minor": 0
      },
      "text/plain": [
       "Figure(layout=FigureLayout(height='420px'))"
      ]
     },
     "metadata": {},
     "output_type": "display_data"
    }
   ],
   "source": [
    "# Add a heatmap of temperature for the vacation spots.\n",
    "locations = hotel_df[[\"Lat\", \"Lng\"]]\n",
    "max_temp = hotel_df[\"Max Temp\"]\n",
    "fig = gmaps.figure(center=(30.0, 31.0), zoom_level=1.5)\n",
    "heat_layer = gmaps.heatmap_layer(locations, weights=max_temp, dissipating=False,\n",
    "             max_intensity=300, point_radius=4)\n",
    "\n",
    "fig.add_layer(heat_layer)\n",
    "# Call the figure to plot the data.\n",
    "fig\n"
   ]
  },
  {
   "cell_type": "code",
   "execution_count": 79,
   "id": "354475e9",
   "metadata": {},
   "outputs": [
    {
     "data": {
      "application/vnd.jupyter.widget-view+json": {
       "model_id": "35ad045f508b4e30b728af106813f26f",
       "version_major": 2,
       "version_minor": 0
      },
      "text/plain": [
       "Figure(layout=FigureLayout(height='420px'))"
      ]
     },
     "metadata": {},
     "output_type": "display_data"
    }
   ],
   "source": [
    "# Add a heatmap of temperature for the vacation spots and marker for each city.\n",
    "locations = hotel_df[[\"Lat\", \"Lng\"]]\n",
    "max_temp = hotel_df[\"Max Temp\"]\n",
    "fig = gmaps.figure(center=(30.0, 31.0), zoom_level=1.5)\n",
    "heat_layer = gmaps.heatmap_layer(locations, weights=max_temp,\n",
    "             dissipating=False, max_intensity=300, point_radius=4)\n",
    "marker_layer = gmaps.marker_layer(locations)\n",
    "fig.add_layer(heat_layer)\n",
    "fig.add_layer(marker_layer)\n",
    "# Call the figure to plot the data.\n",
    "fig"
   ]
  },
  {
   "cell_type": "code",
   "execution_count": 94,
   "id": "abda2049",
   "metadata": {},
   "outputs": [
    {
     "data": {
      "text/plain": [
       "['\\n<dl>\\n<dt>Hotel Name</dt><dd>HAMDAN PLAZA HOTEL SALALAH, an HTG Hotel</dd>\\n<dt>City</dt><dd>Salalah</dd>\\n<dt>Country</dt><dd>OM</dd>\\n<dt>Max Temp</dt><dd>80.49 °F</dd>\\n</dl>\\n',\n",
       " \"\\n<dl>\\n<dt>Hotel Name</dt><dd>Marriott's Ko Olina Beach Club</dd>\\n<dt>City</dt><dd>Pompeu</dd>\\n<dt>Country</dt><dd>BR</dd>\\n<dt>Max Temp</dt><dd>88.77 °F</dd>\\n</dl>\\n\",\n",
       " '\\n<dl>\\n<dt>Hotel Name</dt><dd>Pousada Porto Praia</dd>\\n<dt>City</dt><dd>Arraial Do Cabo</dd>\\n<dt>Country</dt><dd>BR</dd>\\n<dt>Max Temp</dt><dd>84.16 °F</dd>\\n</dl>\\n',\n",
       " '\\n<dl>\\n<dt>Hotel Name</dt><dd>Hilo Hawaiian Hotel</dd>\\n<dt>City</dt><dd>Hilo</dd>\\n<dt>Country</dt><dd>US</dd>\\n<dt>Max Temp</dt><dd>75.61 °F</dd>\\n</dl>\\n',\n",
       " '\\n<dl>\\n<dt>Hotel Name</dt><dd>Sheraton Kauai Coconut Beach Resort</dd>\\n<dt>City</dt><dd>Kapaa</dd>\\n<dt>Country</dt><dd>US</dd>\\n<dt>Max Temp</dt><dd>75.18 °F</dd>\\n</dl>\\n',\n",
       " '\\n<dl>\\n<dt>Hotel Name</dt><dd>Amazon Exploring Expedition - Eretzen Tá Lodge</dd>\\n<dt>City</dt><dd>Nauta</dd>\\n<dt>Country</dt><dd>PE</dd>\\n<dt>Max Temp</dt><dd>89.49 °F</dd>\\n</dl>\\n',\n",
       " '\\n<dl>\\n<dt>Hotel Name</dt><dd>People ThankYou</dd>\\n<dt>City</dt><dd>Rikitea</dd>\\n<dt>Country</dt><dd>PF</dd>\\n<dt>Max Temp</dt><dd>77.74 °F</dd>\\n</dl>\\n',\n",
       " '\\n<dl>\\n<dt>Hotel Name</dt><dd>Chambres d\\'hôte \"La Trinité\"</dd>\\n<dt>City</dt><dd>Saint-Philippe</dd>\\n<dt>Country</dt><dd>RE</dd>\\n<dt>Max Temp</dt><dd>78.39 °F</dd>\\n</dl>\\n',\n",
       " '\\n<dl>\\n<dt>Hotel Name</dt><dd>Plaza Inn Flat Araxá</dd>\\n<dt>City</dt><dd>Araxa</dd>\\n<dt>Country</dt><dd>BR</dd>\\n<dt>Max Temp</dt><dd>85.96 °F</dd>\\n</dl>\\n',\n",
       " '\\n<dl>\\n<dt>Hotel Name</dt><dd>Kost Pria</dd>\\n<dt>City</dt><dd>Meulaboh</dd>\\n<dt>Country</dt><dd>ID</dd>\\n<dt>Max Temp</dt><dd>77.52 °F</dd>\\n</dl>\\n',\n",
       " '\\n<dl>\\n<dt>Hotel Name</dt><dd>Keleti Beach Resort</dd>\\n<dt>City</dt><dd>Vaini</dd>\\n<dt>Country</dt><dd>TO</dd>\\n<dt>Max Temp</dt><dd>80.71 °F</dd>\\n</dl>\\n',\n",
       " '\\n<dl>\\n<dt>Hotel Name</dt><dd>Finch Bay Galapagos Hotel</dd>\\n<dt>City</dt><dd>Puerto Ayora</dd>\\n<dt>Country</dt><dd>EC</dd>\\n<dt>Max Temp</dt><dd>80.56 °F</dd>\\n</dl>\\n',\n",
       " '\\n<dl>\\n<dt>Hotel Name</dt><dd>Villa Enata</dd>\\n<dt>City</dt><dd>Atuona</dd>\\n<dt>Country</dt><dd>PF</dd>\\n<dt>Max Temp</dt><dd>78.55 °F</dd>\\n</dl>\\n',\n",
       " '\\n<dl>\\n<dt>Hotel Name</dt><dd>HS Hotsson Smart Acapulco</dd>\\n<dt>City</dt><dd>Acapulco</dd>\\n<dt>Country</dt><dd>MX</dd>\\n<dt>Max Temp</dt><dd>81.97 °F</dd>\\n</dl>\\n',\n",
       " '\\n<dl>\\n<dt>Hotel Name</dt><dd>La Caz Oceane</dd>\\n<dt>City</dt><dd>Saint-Leu</dd>\\n<dt>Country</dt><dd>RE</dd>\\n<dt>Max Temp</dt><dd>77.86 °F</dd>\\n</dl>\\n',\n",
       " '\\n<dl>\\n<dt>Hotel Name</dt><dd>Cabaña Caribe</dd>\\n<dt>City</dt><dd>Puerto Cabezas</dd>\\n<dt>Country</dt><dd>NI</dd>\\n<dt>Max Temp</dt><dd>85.96 °F</dd>\\n</dl>\\n',\n",
       " '\\n<dl>\\n<dt>Hotel Name</dt><dd>Hotel y restaurante \"El Diamante\"</dd>\\n<dt>City</dt><dd>Champerico</dd>\\n<dt>Country</dt><dd>GT</dd>\\n<dt>Max Temp</dt><dd>86.52 °F</dd>\\n</dl>\\n',\n",
       " '\\n<dl>\\n<dt>Hotel Name</dt><dd>Hotel Wixel</dd>\\n<dt>City</dt><dd>Kendari</dd>\\n<dt>Country</dt><dd>ID</dd>\\n<dt>Max Temp</dt><dd>75.18 °F</dd>\\n</dl>\\n',\n",
       " '\\n<dl>\\n<dt>Hotel Name</dt><dd>Lindsey Hôtel</dd>\\n<dt>City</dt><dd>Saint-Pierre</dd>\\n<dt>Country</dt><dd>RE</dd>\\n<dt>Max Temp</dt><dd>78.48 °F</dd>\\n</dl>\\n',\n",
       " '\\n<dl>\\n<dt>Hotel Name</dt><dd>Beach Rotana</dd>\\n<dt>City</dt><dd>Abu Dhabi</dd>\\n<dt>Country</dt><dd>AE</dd>\\n<dt>Max Temp</dt><dd>75.31 °F</dd>\\n</dl>\\n',\n",
       " '\\n<dl>\\n<dt>Hotel Name</dt><dd>JABIR HOTEL</dd>\\n<dt>City</dt><dd>Bandarbeyla</dd>\\n<dt>Country</dt><dd>SO</dd>\\n<dt>Max Temp</dt><dd>80.96 °F</dd>\\n</dl>\\n',\n",
       " '\\n<dl>\\n<dt>Hotel Name</dt><dd>Nusa Island Retreat</dd>\\n<dt>City</dt><dd>Kavieng</dd>\\n<dt>Country</dt><dd>PG</dd>\\n<dt>Max Temp</dt><dd>81.68 °F</dd>\\n</dl>\\n',\n",
       " '\\n<dl>\\n<dt>Hotel Name</dt><dd>Pousada Porto De Canoas</dd>\\n<dt>City</dt><dd>Sao Joao Da Barra</dd>\\n<dt>Country</dt><dd>BR</dd>\\n<dt>Max Temp</dt><dd>81.9 °F</dd>\\n</dl>\\n',\n",
       " '\\n<dl>\\n<dt>Hotel Name</dt><dd>Hotel Posada San Jose</dd>\\n<dt>City</dt><dd>Pochutla</dd>\\n<dt>Country</dt><dd>MX</dd>\\n<dt>Max Temp</dt><dd>85.82 °F</dd>\\n</dl>\\n',\n",
       " '\\n<dl>\\n<dt>Hotel Name</dt><dd>Hotel On The Rock by Prasanthi</dd>\\n<dt>City</dt><dd>Kupang</dd>\\n<dt>Country</dt><dd>ID</dd>\\n<dt>Max Temp</dt><dd>76.3 °F</dd>\\n</dl>\\n',\n",
       " \"\\n<dl>\\n<dt>Hotel Name</dt><dd>Motel de l'UNITE</dd>\\n<dt>City</dt><dd>Bouar</dd>\\n<dt>Country</dt><dd>CF</dd>\\n<dt>Max Temp</dt><dd>80.98 °F</dd>\\n</dl>\\n\",\n",
       " '\\n<dl>\\n<dt>Hotel Name</dt><dd>Isles Sunset Lodge</dd>\\n<dt>City</dt><dd>Butaritari</dd>\\n<dt>Country</dt><dd>KI</dd>\\n<dt>Max Temp</dt><dd>80.65 °F</dd>\\n</dl>\\n',\n",
       " '\\n<dl>\\n<dt>Hotel Name</dt><dd>Shandrani Beachcomber Resort & Spa</dd>\\n<dt>City</dt><dd>Mahebourg</dd>\\n<dt>Country</dt><dd>MU</dd>\\n<dt>Max Temp</dt><dd>77.25 °F</dd>\\n</dl>\\n',\n",
       " '\\n<dl>\\n<dt>Hotel Name</dt><dd>Casa Tia Villa</dd>\\n<dt>City</dt><dd>Bambous Virieux</dd>\\n<dt>Country</dt><dd>MU</dd>\\n<dt>Max Temp</dt><dd>77.22 °F</dd>\\n</dl>\\n',\n",
       " '\\n<dl>\\n<dt>Hotel Name</dt><dd>Carmen</dd>\\n<dt>City</dt><dd>Moa</dd>\\n<dt>Country</dt><dd>CU</dd>\\n<dt>Max Temp</dt><dd>83.16 °F</dd>\\n</dl>\\n',\n",
       " '\\n<dl>\\n<dt>Hotel Name</dt><dd>صاحبة الفخامة</dd>\\n<dt>City</dt><dd>Jalu</dd>\\n<dt>Country</dt><dd>LY</dd>\\n<dt>Max Temp</dt><dd>82.99 °F</dd>\\n</dl>\\n',\n",
       " '\\n<dl>\\n<dt>Hotel Name</dt><dd>Welcomhotel By ITC Hotels, Bay Island, Port Blair</dd>\\n<dt>City</dt><dd>Port Blair</dd>\\n<dt>Country</dt><dd>IN</dd>\\n<dt>Max Temp</dt><dd>81.28 °F</dd>\\n</dl>\\n',\n",
       " '\\n<dl>\\n<dt>Hotel Name</dt><dd>Hotel Tesoro Los Cabos</dd>\\n<dt>City</dt><dd>Cabo San Lucas</dd>\\n<dt>Country</dt><dd>MX</dd>\\n<dt>Max Temp</dt><dd>81.61 °F</dd>\\n</dl>\\n',\n",
       " '\\n<dl>\\n<dt>Hotel Name</dt><dd>Cititel Penang</dd>\\n<dt>City</dt><dd>Georgetown</dd>\\n<dt>Country</dt><dd>MY</dd>\\n<dt>Max Temp</dt><dd>80.53 °F</dd>\\n</dl>\\n',\n",
       " '\\n<dl>\\n<dt>Hotel Name</dt><dd>Orient Apartments</dd>\\n<dt>City</dt><dd>Nizwa</dd>\\n<dt>Country</dt><dd>OM</dd>\\n<dt>Max Temp</dt><dd>82.22 °F</dd>\\n</dl>\\n',\n",
       " '\\n<dl>\\n<dt>Hotel Name</dt><dd>Scoop Guest House</dd>\\n<dt>City</dt><dd>Hithadhoo</dd>\\n<dt>Country</dt><dd>MV</dd>\\n<dt>Max Temp</dt><dd>83.17 °F</dd>\\n</dl>\\n',\n",
       " '\\n<dl>\\n<dt>Hotel Name</dt><dd>Swiss-Belhotel Ambon</dd>\\n<dt>City</dt><dd>Ambon</dd>\\n<dt>Country</dt><dd>ID</dd>\\n<dt>Max Temp</dt><dd>80.74 °F</dd>\\n</dl>\\n',\n",
       " '\\n<dl>\\n<dt>Hotel Name</dt><dd>Hotel Bombay Lodge</dd>\\n<dt>City</dt><dd>Fatehpur</dd>\\n<dt>Country</dt><dd>IN</dd>\\n<dt>Max Temp</dt><dd>85.75 °F</dd>\\n</dl>\\n',\n",
       " '\\n<dl>\\n<dt>Hotel Name</dt><dd>Moon light Furnished Units</dd>\\n<dt>City</dt><dd>Umm Lajj</dd>\\n<dt>Country</dt><dd>SA</dd>\\n<dt>Max Temp</dt><dd>75.67 °F</dd>\\n</dl>\\n',\n",
       " '\\n<dl>\\n<dt>Hotel Name</dt><dd>Hôtel Le Dronmi</dd>\\n<dt>City</dt><dd>Cayenne</dd>\\n<dt>Country</dt><dd>GF</dd>\\n<dt>Max Temp</dt><dd>84.24 °F</dd>\\n</dl>\\n',\n",
       " '\\n<dl>\\n<dt>Hotel Name</dt><dd>Pirineos</dd>\\n<dt>City</dt><dd>San Cristobal</dd>\\n<dt>Country</dt><dd>VE</dd>\\n<dt>Max Temp</dt><dd>82.56 °F</dd>\\n</dl>\\n',\n",
       " '\\n<dl>\\n<dt>Hotel Name</dt><dd>Maui Seaside Hotel</dd>\\n<dt>City</dt><dd>Kahului</dd>\\n<dt>Country</dt><dd>US</dd>\\n<dt>Max Temp</dt><dd>76.84 °F</dd>\\n</dl>\\n',\n",
       " '\\n<dl>\\n<dt>Hotel Name</dt><dd>Suhasita Resort</dd>\\n<dt>City</dt><dd>Ghatsila</dd>\\n<dt>Country</dt><dd>IN</dd>\\n<dt>Max Temp</dt><dd>81.32 °F</dd>\\n</dl>\\n',\n",
       " '\\n<dl>\\n<dt>Hotel Name</dt><dd>Maitai Lapita Village Huahine</dd>\\n<dt>City</dt><dd>Fare</dd>\\n<dt>Country</dt><dd>PF</dd>\\n<dt>Max Temp</dt><dd>81.9 °F</dd>\\n</dl>\\n',\n",
       " '\\n<dl>\\n<dt>Hotel Name</dt><dd>Hotel 77 Poso</dd>\\n<dt>City</dt><dd>Poso</dd>\\n<dt>Country</dt><dd>ID</dd>\\n<dt>Max Temp</dt><dd>75.43 °F</dd>\\n</dl>\\n',\n",
       " '\\n<dl>\\n<dt>Hotel Name</dt><dd>LT Aparthotel</dd>\\n<dt>City</dt><dd>Praya</dd>\\n<dt>Country</dt><dd>CV</dd>\\n<dt>Max Temp</dt><dd>77.54 °F</dd>\\n</dl>\\n',\n",
       " '\\n<dl>\\n<dt>Hotel Name</dt><dd>Pereybere Hotel & Spa</dd>\\n<dt>City</dt><dd>Cap Malheureux</dd>\\n<dt>Country</dt><dd>MU</dd>\\n<dt>Max Temp</dt><dd>77.47 °F</dd>\\n</dl>\\n',\n",
       " '\\n<dl>\\n<dt>Hotel Name</dt><dd>Paradise Bay Resort</dd>\\n<dt>City</dt><dd>Ahuimanu</dd>\\n<dt>Country</dt><dd>US</dd>\\n<dt>Max Temp</dt><dd>76.78 °F</dd>\\n</dl>\\n',\n",
       " '\\n<dl>\\n<dt>Hotel Name</dt><dd>Ecos Hotel Conforto</dd>\\n<dt>City</dt><dd>Porto Velho</dd>\\n<dt>Country</dt><dd>BR</dd>\\n<dt>Max Temp</dt><dd>80.96 °F</dd>\\n</dl>\\n',\n",
       " '\\n<dl>\\n<dt>Hotel Name</dt><dd>Rock Garden Resort</dd>\\n<dt>City</dt><dd>Balingasay</dd>\\n<dt>Country</dt><dd>PH</dd>\\n<dt>Max Temp</dt><dd>82.76 °F</dd>\\n</dl>\\n',\n",
       " '\\n<dl>\\n<dt>Hotel Name</dt><dd>Enon Beach Resort</dd>\\n<dt>City</dt><dd>Buluang</dd>\\n<dt>Country</dt><dd>PH</dd>\\n<dt>Max Temp</dt><dd>75.42 °F</dd>\\n</dl>\\n',\n",
       " '\\n<dl>\\n<dt>Hotel Name</dt><dd>Atlantis Hotel</dd>\\n<dt>City</dt><dd>Bathsheba</dd>\\n<dt>Country</dt><dd>BB</dd>\\n<dt>Max Temp</dt><dd>84.81 °F</dd>\\n</dl>\\n',\n",
       " '\\n<dl>\\n<dt>Hotel Name</dt><dd>\"Plantation Bed and Breakfast</dd>\\n<dt>City</dt><dd>Saint-Joseph</dd>\\n<dt>Country</dt><dd>RE</dd>\\n<dt>Max Temp</dt><dd>77.38 °F</dd>\\n</dl>\\n',\n",
       " '\\n<dl>\\n<dt>Hotel Name</dt><dd>Bora-Bora Pearl Beach Resort & Spa</dd>\\n<dt>City</dt><dd>Faanui</dd>\\n<dt>Country</dt><dd>PF</dd>\\n<dt>Max Temp</dt><dd>82.02 °F</dd>\\n</dl>\\n',\n",
       " '\\n<dl>\\n<dt>Hotel Name</dt><dd>Mutrah Hotel</dd>\\n<dt>City</dt><dd>Muscat</dd>\\n<dt>Country</dt><dd>OM</dd>\\n<dt>Max Temp</dt><dd>81.3 °F</dd>\\n</dl>\\n',\n",
       " '\\n<dl>\\n<dt>Hotel Name</dt><dd>Barravento Hotel</dd>\\n<dt>City</dt><dd>Ilheus</dd>\\n<dt>Country</dt><dd>BR</dd>\\n<dt>Max Temp</dt><dd>83.77 °F</dd>\\n</dl>\\n',\n",
       " '\\n<dl>\\n<dt>Hotel Name</dt><dd>Sai Krishna Lodge</dd>\\n<dt>City</dt><dd>Tuni</dd>\\n<dt>Country</dt><dd>IN</dd>\\n<dt>Max Temp</dt><dd>79.95 °F</dd>\\n</dl>\\n',\n",
       " '\\n<dl>\\n<dt>Hotel Name</dt><dd>Balneario Rio el Paraiso</dd>\\n<dt>City</dt><dd>Nuevo Progreso</dd>\\n<dt>Country</dt><dd>MX</dd>\\n<dt>Max Temp</dt><dd>87.55 °F</dd>\\n</dl>\\n',\n",
       " '\\n<dl>\\n<dt>Hotel Name</dt><dd>Sur Plaza Hotel</dd>\\n<dt>City</dt><dd>Sur</dd>\\n<dt>Country</dt><dd>OM</dd>\\n<dt>Max Temp</dt><dd>81.0 °F</dd>\\n</dl>\\n',\n",
       " '\\n<dl>\\n<dt>Hotel Name</dt><dd>hantiwadaag village part one</dd>\\n<dt>City</dt><dd>Jawhar</dd>\\n<dt>Country</dt><dd>SO</dd>\\n<dt>Max Temp</dt><dd>81.34 °F</dd>\\n</dl>\\n',\n",
       " '\\n<dl>\\n<dt>Hotel Name</dt><dd>Villa on Dunbar Rock</dd>\\n<dt>City</dt><dd>Savannah Bight</dd>\\n<dt>Country</dt><dd>HN</dd>\\n<dt>Max Temp</dt><dd>82.31 °F</dd>\\n</dl>\\n',\n",
       " '\\n<dl>\\n<dt>Hotel Name</dt><dd>Mitho Teeqia Wala</dd>\\n<dt>City</dt><dd>Chunian</dd>\\n<dt>Country</dt><dd>PK</dd>\\n<dt>Max Temp</dt><dd>75.04 °F</dd>\\n</dl>\\n',\n",
       " '\\n<dl>\\n<dt>Hotel Name</dt><dd>Araguaia Palace Hotel</dd>\\n<dt>City</dt><dd>Alto Araguaia</dd>\\n<dt>Country</dt><dd>BR</dd>\\n<dt>Max Temp</dt><dd>81.36 °F</dd>\\n</dl>\\n',\n",
       " '\\n<dl>\\n<dt>Hotel Name</dt><dd>Hotel Citra</dd>\\n<dt>City</dt><dd>Sabang</dd>\\n<dt>Country</dt><dd>ID</dd>\\n<dt>Max Temp</dt><dd>82.83 °F</dd>\\n</dl>\\n',\n",
       " '\\n<dl>\\n<dt>Hotel Name</dt><dd>TIL Hotels Mtwara</dd>\\n<dt>City</dt><dd>Mtwara</dd>\\n<dt>Country</dt><dd>TZ</dd>\\n<dt>Max Temp</dt><dd>79.02 °F</dd>\\n</dl>\\n',\n",
       " '\\n<dl>\\n<dt>Hotel Name</dt><dd>Hotel Marilu</dd>\\n<dt>City</dt><dd>Vila Do Maio</dd>\\n<dt>Country</dt><dd>CV</dd>\\n<dt>Max Temp</dt><dd>77.79 °F</dd>\\n</dl>\\n',\n",
       " '\\n<dl>\\n<dt>Hotel Name</dt><dd>Hotel Dona Adélia</dd>\\n<dt>City</dt><dd>Coromandel</dd>\\n<dt>Country</dt><dd>BR</dd>\\n<dt>Max Temp</dt><dd>75.61 °F</dd>\\n</dl>\\n',\n",
       " '\\n<dl>\\n<dt>Hotel Name</dt><dd>Hotel los Algarrobos</dd>\\n<dt>City</dt><dd>Puerto Baquerizo Moreno</dd>\\n<dt>Country</dt><dd>EC</dd>\\n<dt>Max Temp</dt><dd>79.79 °F</dd>\\n</dl>\\n',\n",
       " '\\n<dl>\\n<dt>Hotel Name</dt><dd>Heritage Park Hotel</dd>\\n<dt>City</dt><dd>Honiara</dd>\\n<dt>Country</dt><dd>SB</dd>\\n<dt>Max Temp</dt><dd>78.1 °F</dd>\\n</dl>\\n',\n",
       " '\\n<dl>\\n<dt>Hotel Name</dt><dd>INN NEW HORIZON</dd>\\n<dt>City</dt><dd>Touros</dd>\\n<dt>Country</dt><dd>BR</dd>\\n<dt>Max Temp</dt><dd>80.19 °F</dd>\\n</dl>\\n',\n",
       " \"\\n<dl>\\n<dt>Hotel Name</dt><dd>Marriott's Ko Olina Beach Club</dd>\\n<dt>City</dt><dd>Poya</dd>\\n<dt>Country</dt><dd>NC</dd>\\n<dt>Max Temp</dt><dd>76.68 °F</dd>\\n</dl>\\n\",\n",
       " \"\\n<dl>\\n<dt>Hotel Name</dt><dd>Marriott's Ko Olina Beach Club</dd>\\n<dt>City</dt><dd>Morros</dd>\\n<dt>Country</dt><dd>BR</dd>\\n<dt>Max Temp</dt><dd>84.76 °F</dd>\\n</dl>\\n\",\n",
       " '\\n<dl>\\n<dt>Hotel Name</dt><dd>Leumerus Bungalows</dd>\\n<dt>City</dt><dd>Sola</dd>\\n<dt>Country</dt><dd>VU</dd>\\n<dt>Max Temp</dt><dd>82.27 °F</dd>\\n</dl>\\n',\n",
       " '\\n<dl>\\n<dt>Hotel Name</dt><dd>Monty Brooms Guest House</dd>\\n<dt>City</dt><dd>Mabaruma</dd>\\n<dt>Country</dt><dd>GY</dd>\\n<dt>Max Temp</dt><dd>80.35 °F</dd>\\n</dl>\\n',\n",
       " '\\n<dl>\\n<dt>Hotel Name</dt><dd>कैथल हरियाणा होटल</dd>\\n<dt>City</dt><dd>Manoharpur</dd>\\n<dt>Country</dt><dd>IN</dd>\\n<dt>Max Temp</dt><dd>79.97 °F</dd>\\n</dl>\\n',\n",
       " '\\n<dl>\\n<dt>Hotel Name</dt><dd>Sadaf Resort</dd>\\n<dt>City</dt><dd>Gwadar</dd>\\n<dt>Country</dt><dd>PK</dd>\\n<dt>Max Temp</dt><dd>79.23 °F</dd>\\n</dl>\\n',\n",
       " '\\n<dl>\\n<dt>Hotel Name</dt><dd>Nuba Nile</dd>\\n<dt>City</dt><dd>Aswan</dd>\\n<dt>Country</dt><dd>EG</dd>\\n<dt>Max Temp</dt><dd>85.14 °F</dd>\\n</dl>\\n',\n",
       " '\\n<dl>\\n<dt>Hotel Name</dt><dd>ibis Styles Karratha</dd>\\n<dt>City</dt><dd>Karratha</dd>\\n<dt>Country</dt><dd>AU</dd>\\n<dt>Max Temp</dt><dd>85.17 °F</dd>\\n</dl>\\n',\n",
       " '\\n<dl>\\n<dt>Hotel Name</dt><dd>Hotel Ambulu Jember</dd>\\n<dt>City</dt><dd>Ambulu</dd>\\n<dt>Country</dt><dd>ID</dd>\\n<dt>Max Temp</dt><dd>75.6 °F</dd>\\n</dl>\\n',\n",
       " '\\n<dl>\\n<dt>Hotel Name</dt><dd>Uruna Bay Retreat</dd>\\n<dt>City</dt><dd>Kieta</dd>\\n<dt>Country</dt><dd>PG</dd>\\n<dt>Max Temp</dt><dd>79.27 °F</dd>\\n</dl>\\n',\n",
       " '\\n<dl>\\n<dt>Hotel Name</dt><dd>Goklani House گوکلانی ہائوس</dd>\\n<dt>City</dt><dd>Sanghar</dd>\\n<dt>Country</dt><dd>PK</dd>\\n<dt>Max Temp</dt><dd>85.91 °F</dd>\\n</dl>\\n',\n",
       " '\\n<dl>\\n<dt>Hotel Name</dt><dd>Canilla, Quiché</dd>\\n<dt>City</dt><dd>Canilla</dd>\\n<dt>Country</dt><dd>GT</dd>\\n<dt>Max Temp</dt><dd>88.75 °F</dd>\\n</dl>\\n',\n",
       " '\\n<dl>\\n<dt>Hotel Name</dt><dd>Tanna Lodge</dd>\\n<dt>City</dt><dd>Isangel</dd>\\n<dt>Country</dt><dd>VU</dd>\\n<dt>Max Temp</dt><dd>79.61 °F</dd>\\n</dl>\\n',\n",
       " '\\n<dl>\\n<dt>Hotel Name</dt><dd>Hotel La Villa Couacou</dd>\\n<dt>City</dt><dd>Grand-Santi</dd>\\n<dt>Country</dt><dd>GF</dd>\\n<dt>Max Temp</dt><dd>83.97 °F</dd>\\n</dl>\\n',\n",
       " '\\n<dl>\\n<dt>Hotel Name</dt><dd>Kamaneahn Hotel Inc</dd>\\n<dt>City</dt><dd>Buchanan</dd>\\n<dt>Country</dt><dd>LR</dd>\\n<dt>Max Temp</dt><dd>83.28 °F</dd>\\n</dl>\\n',\n",
       " '\\n<dl>\\n<dt>Hotel Name</dt><dd>Hotel El Barcon</dd>\\n<dt>City</dt><dd>San Jose De Ocoa</dd>\\n<dt>Country</dt><dd>DO</dd>\\n<dt>Max Temp</dt><dd>84.9 °F</dd>\\n</dl>\\n',\n",
       " \"\\n<dl>\\n<dt>Hotel Name</dt><dd>Marriott's Ko Olina Beach Club</dd>\\n<dt>City</dt><dd>Bara</dd>\\n<dt>Country</dt><dd>NG</dd>\\n<dt>Max Temp</dt><dd>89.37 °F</dd>\\n</dl>\\n\",\n",
       " '\\n<dl>\\n<dt>Hotel Name</dt><dd>ขวัญเรือน ขำสุข</dd>\\n<dt>City</dt><dd>Thap Than</dd>\\n<dt>Country</dt><dd>TH</dd>\\n<dt>Max Temp</dt><dd>87.71 °F</dd>\\n</dl>\\n',\n",
       " \"\\n<dl>\\n<dt>Hotel Name</dt><dd>Cj's Travellers Inn</dd>\\n<dt>City</dt><dd>Gigmoto</dd>\\n<dt>Country</dt><dd>PH</dd>\\n<dt>Max Temp</dt><dd>79.12 °F</dd>\\n</dl>\\n\",\n",
       " '\\n<dl>\\n<dt>Hotel Name</dt><dd>Aryaduta Makassar</dd>\\n<dt>City</dt><dd>Makasar</dd>\\n<dt>Country</dt><dd>ID</dd>\\n<dt>Max Temp</dt><dd>75.25 °F</dd>\\n</dl>\\n',\n",
       " '\\n<dl>\\n<dt>Hotel Name</dt><dd>Taj Motel</dd>\\n<dt>City</dt><dd>Sirhind</dd>\\n<dt>Country</dt><dd>IN</dd>\\n<dt>Max Temp</dt><dd>76.39 °F</dd>\\n</dl>\\n',\n",
       " '\\n<dl>\\n<dt>Hotel Name</dt><dd>Hotel Praia Morena</dd>\\n<dt>City</dt><dd>Benguela</dd>\\n<dt>Country</dt><dd>AO</dd>\\n<dt>Max Temp</dt><dd>77.77 °F</dd>\\n</dl>\\n',\n",
       " '\\n<dl>\\n<dt>Hotel Name</dt><dd>Broadwater Mariner Resort</dd>\\n<dt>City</dt><dd>Geraldton</dd>\\n<dt>Country</dt><dd>AU</dd>\\n<dt>Max Temp</dt><dd>75.61 °F</dd>\\n</dl>\\n',\n",
       " '\\n<dl>\\n<dt>Hotel Name</dt><dd>Grage Hotel Bengkulu</dd>\\n<dt>City</dt><dd>Bengkulu</dd>\\n<dt>Country</dt><dd>ID</dd>\\n<dt>Max Temp</dt><dd>76.28 °F</dd>\\n</dl>\\n',\n",
       " '\\n<dl>\\n<dt>Hotel Name</dt><dd>Grand Vilia Hotel</dd>\\n<dt>City</dt><dd>Tual</dd>\\n<dt>Country</dt><dd>ID</dd>\\n<dt>Max Temp</dt><dd>82.71 °F</dd>\\n</dl>\\n',\n",
       " '\\n<dl>\\n<dt>Hotel Name</dt><dd>Seagulls Inn Namatani</dd>\\n<dt>City</dt><dd>Namatanai</dd>\\n<dt>Country</dt><dd>PG</dd>\\n<dt>Max Temp</dt><dd>79.16 °F</dd>\\n</dl>\\n',\n",
       " '\\n<dl>\\n<dt>Hotel Name</dt><dd>CeBlue Villas & Beach Resort</dd>\\n<dt>City</dt><dd>The Valley</dd>\\n<dt>Country</dt><dd>AI</dd>\\n<dt>Max Temp</dt><dd>82.54 °F</dd>\\n</dl>\\n',\n",
       " '\\n<dl>\\n<dt>Hotel Name</dt><dd>Los Fresnos Inn</dd>\\n<dt>City</dt><dd>Laureles</dd>\\n<dt>Country</dt><dd>US</dd>\\n<dt>Max Temp</dt><dd>86.02 °F</dd>\\n</dl>\\n',\n",
       " '\\n<dl>\\n<dt>Hotel Name</dt><dd>Agan-Hotel</dd>\\n<dt>City</dt><dd>Kismayo</dd>\\n<dt>Country</dt><dd>SO</dd>\\n<dt>Max Temp</dt><dd>81.03 °F</dd>\\n</dl>\\n',\n",
       " \"\\n<dl>\\n<dt>Hotel Name</dt><dd>Marriott's Ko Olina Beach Club</dd>\\n<dt>City</dt><dd>Aitape</dd>\\n<dt>Country</dt><dd>PG</dd>\\n<dt>Max Temp</dt><dd>77.61 °F</dd>\\n</dl>\\n\",\n",
       " '\\n<dl>\\n<dt>Hotel Name</dt><dd>Shanti Maurice Resort & Spa</dd>\\n<dt>City</dt><dd>Souillac</dd>\\n<dt>Country</dt><dd>MU</dd>\\n<dt>Max Temp</dt><dd>77.58 °F</dd>\\n</dl>\\n',\n",
       " '\\n<dl>\\n<dt>Hotel Name</dt><dd>Hotel Confiança</dd>\\n<dt>City</dt><dd>Grajau</dd>\\n<dt>Country</dt><dd>BR</dd>\\n<dt>Max Temp</dt><dd>80.15 °F</dd>\\n</dl>\\n',\n",
       " '\\n<dl>\\n<dt>Hotel Name</dt><dd>Spanish Villa</dd>\\n<dt>City</dt><dd>Mumford</dd>\\n<dt>Country</dt><dd>GH</dd>\\n<dt>Max Temp</dt><dd>82.83 °F</dd>\\n</dl>\\n',\n",
       " '\\n<dl>\\n<dt>Hotel Name</dt><dd>فندق الزيات</dd>\\n<dt>City</dt><dd>Tahta</dd>\\n<dt>Country</dt><dd>EG</dd>\\n<dt>Max Temp</dt><dd>81.73 °F</dd>\\n</dl>\\n',\n",
       " \"\\n<dl>\\n<dt>Hotel Name</dt><dd>Esquivel's Garden And Resort</dd>\\n<dt>City</dt><dd>San Pedro</dd>\\n<dt>Country</dt><dd>PH</dd>\\n<dt>Max Temp</dt><dd>82.35 °F</dd>\\n</dl>\\n\",\n",
       " '\\n<dl>\\n<dt>Hotel Name</dt><dd>Pousada Aconchego</dd>\\n<dt>City</dt><dd>Rodrigues Alves</dd>\\n<dt>Country</dt><dd>BR</dd>\\n<dt>Max Temp</dt><dd>85.71 °F</dd>\\n</dl>\\n',\n",
       " '\\n<dl>\\n<dt>Hotel Name</dt><dd>Hotel Memory</dd>\\n<dt>City</dt><dd>Akyab</dd>\\n<dt>Country</dt><dd>MM</dd>\\n<dt>Max Temp</dt><dd>79.88 °F</dd>\\n</dl>\\n',\n",
       " '\\n<dl>\\n<dt>Hotel Name</dt><dd>Tal Chhapar Forest Rest House</dd>\\n<dt>City</dt><dd>Chhapar</dd>\\n<dt>Country</dt><dd>IN</dd>\\n<dt>Max Temp</dt><dd>83.43 °F</dd>\\n</dl>\\n',\n",
       " '\\n<dl>\\n<dt>Hotel Name</dt><dd>Al-Qamar Boys Hostel</dd>\\n<dt>City</dt><dd>Umarkot</dd>\\n<dt>Country</dt><dd>PK</dd>\\n<dt>Max Temp</dt><dd>84.33 °F</dd>\\n</dl>\\n',\n",
       " '\\n<dl>\\n<dt>Hotel Name</dt><dd>Hotel e Restaurante Tupana Iwato</dd>\\n<dt>City</dt><dd>Barreirinha</dd>\\n<dt>Country</dt><dd>BR</dd>\\n<dt>Max Temp</dt><dd>82.47 °F</dd>\\n</dl>\\n',\n",
       " '\\n<dl>\\n<dt>Hotel Name</dt><dd>Hotel Plaza Poncitlan</dd>\\n<dt>City</dt><dd>Poncitlan</dd>\\n<dt>Country</dt><dd>MX</dd>\\n<dt>Max Temp</dt><dd>78.71 °F</dd>\\n</dl>\\n',\n",
       " '\\n<dl>\\n<dt>Hotel Name</dt><dd>Hotel Itaverá</dd>\\n<dt>City</dt><dd>Presidente Epitacio</dd>\\n<dt>Country</dt><dd>BR</dd>\\n<dt>Max Temp</dt><dd>85.55 °F</dd>\\n</dl>\\n',\n",
       " '\\n<dl>\\n<dt>Hotel Name</dt><dd>Iftin hotel hobyo</dd>\\n<dt>City</dt><dd>Hobyo</dd>\\n<dt>Country</dt><dd>SO</dd>\\n<dt>Max Temp</dt><dd>82.81 °F</dd>\\n</dl>\\n',\n",
       " '\\n<dl>\\n<dt>Hotel Name</dt><dd>Ujamaa Beach Resort</dd>\\n<dt>City</dt><dd>Sokoni</dd>\\n<dt>Country</dt><dd>TZ</dd>\\n<dt>Max Temp</dt><dd>82.04 °F</dd>\\n</dl>\\n',\n",
       " '\\n<dl>\\n<dt>Hotel Name</dt><dd>Hotel Vitória Palace</dd>\\n<dt>City</dt><dd>Vila Velha</dd>\\n<dt>Country</dt><dd>BR</dd>\\n<dt>Max Temp</dt><dd>87.75 °F</dd>\\n</dl>\\n',\n",
       " '\\n<dl>\\n<dt>Hotel Name</dt><dd>DoubleFAG</dd>\\n<dt>City</dt><dd>Labuhan</dd>\\n<dt>Country</dt><dd>ID</dd>\\n<dt>Max Temp</dt><dd>79.03 °F</dd>\\n</dl>\\n',\n",
       " '\\n<dl>\\n<dt>Hotel Name</dt><dd>The Esplanade Hotel (Accommodation section closed for refurbishment - Bar, Restaurant & Functions remain open)</dd>\\n<dt>City</dt><dd>Port Hedland</dd>\\n<dt>Country</dt><dd>AU</dd>\\n<dt>Max Temp</dt><dd>80.65 °F</dd>\\n</dl>\\n',\n",
       " '\\n<dl>\\n<dt>Hotel Name</dt><dd>Mega Hotel, Miri</dd>\\n<dt>City</dt><dd>Miri</dd>\\n<dt>Country</dt><dd>MY</dd>\\n<dt>Max Temp</dt><dd>77.11 °F</dd>\\n</dl>\\n',\n",
       " '\\n<dl>\\n<dt>Hotel Name</dt><dd>Rumboat Retreat</dd>\\n<dt>City</dt><dd>Gouyave</dd>\\n<dt>Country</dt><dd>GD</dd>\\n<dt>Max Temp</dt><dd>83.17 °F</dd>\\n</dl>\\n',\n",
       " '\\n<dl>\\n<dt>Hotel Name</dt><dd>Hotel Visava</dd>\\n<dt>City</dt><dd>Nandgaon</dd>\\n<dt>Country</dt><dd>IN</dd>\\n<dt>Max Temp</dt><dd>84.7 °F</dd>\\n</dl>\\n',\n",
       " '\\n<dl>\\n<dt>Hotel Name</dt><dd>Haji laloo memon house</dd>\\n<dt>City</dt><dd>Keti Bandar</dd>\\n<dt>Country</dt><dd>PK</dd>\\n<dt>Max Temp</dt><dd>80.37 °F</dd>\\n</dl>\\n',\n",
       " '\\n<dl>\\n<dt>Hotel Name</dt><dd>Hotel Sol Nascente - Ariquemes - RO</dd>\\n<dt>City</dt><dd>Ariquemes</dd>\\n<dt>Country</dt><dd>BR</dd>\\n<dt>Max Temp</dt><dd>80.31 °F</dd>\\n</dl>\\n',\n",
       " '\\n<dl>\\n<dt>Hotel Name</dt><dd>Hotel Sol de Oriente - Pucallpa</dd>\\n<dt>City</dt><dd>Pucallpa</dd>\\n<dt>Country</dt><dd>PE</dd>\\n<dt>Max Temp</dt><dd>87.84 °F</dd>\\n</dl>\\n',\n",
       " '\\n<dl>\\n<dt>Hotel Name</dt><dd>Villa Shanti for food lovers</dd>\\n<dt>City</dt><dd>Pondicherry</dd>\\n<dt>Country</dt><dd>IN</dd>\\n<dt>Max Temp</dt><dd>81.81 °F</dd>\\n</dl>\\n',\n",
       " '\\n<dl>\\n<dt>Hotel Name</dt><dd>Sahid Bela Ternate Hotel</dd>\\n<dt>City</dt><dd>Ternate</dd>\\n<dt>Country</dt><dd>ID</dd>\\n<dt>Max Temp</dt><dd>80.46 °F</dd>\\n</dl>\\n',\n",
       " '\\n<dl>\\n<dt>Hotel Name</dt><dd>El Salvial</dd>\\n<dt>City</dt><dd>Tomatlan</dd>\\n<dt>Country</dt><dd>MX</dd>\\n<dt>Max Temp</dt><dd>87.06 °F</dd>\\n</dl>\\n',\n",
       " '\\n<dl>\\n<dt>Hotel Name</dt><dd>Waigo Splash Hotel</dd>\\n<dt>City</dt><dd>Sorong</dd>\\n<dt>Country</dt><dd>ID</dd>\\n<dt>Max Temp</dt><dd>77.63 °F</dd>\\n</dl>\\n',\n",
       " '\\n<dl>\\n<dt>Hotel Name</dt><dd>Hotel Gran Plaza</dd>\\n<dt>City</dt><dd>San Buenaventura</dd>\\n<dt>Country</dt><dd>MX</dd>\\n<dt>Max Temp</dt><dd>79.72 °F</dd>\\n</dl>\\n',\n",
       " '\\n<dl>\\n<dt>Hotel Name</dt><dd>Lakatoro Palm Lodge</dd>\\n<dt>City</dt><dd>Lakatoro</dd>\\n<dt>Country</dt><dd>VU</dd>\\n<dt>Max Temp</dt><dd>80.64 °F</dd>\\n</dl>\\n',\n",
       " '\\n<dl>\\n<dt>Hotel Name</dt><dd>hotêl doufoulougou</dd>\\n<dt>City</dt><dd>Tabou</dd>\\n<dt>Country</dt><dd>CI</dd>\\n<dt>Max Temp</dt><dd>82.89 °F</dd>\\n</dl>\\n',\n",
       " '\\n<dl>\\n<dt>Hotel Name</dt><dd>OCHA Alindao</dd>\\n<dt>City</dt><dd>Alindao</dd>\\n<dt>Country</dt><dd>CF</dd>\\n<dt>Max Temp</dt><dd>89.42 °F</dd>\\n</dl>\\n',\n",
       " '\\n<dl>\\n<dt>Hotel Name</dt><dd>Hospedaje Dibulla Beach</dd>\\n<dt>City</dt><dd>Dibulla</dd>\\n<dt>Country</dt><dd>CO</dd>\\n<dt>Max Temp</dt><dd>88.21 °F</dd>\\n</dl>\\n',\n",
       " '\\n<dl>\\n<dt>Hotel Name</dt><dd>Divi Village Golf & Beach Resort</dd>\\n<dt>City</dt><dd>Oranjestad</dd>\\n<dt>Country</dt><dd>AW</dd>\\n<dt>Max Temp</dt><dd>78.39 °F</dd>\\n</dl>\\n',\n",
       " '\\n<dl>\\n<dt>Hotel Name</dt><dd>HOTEL QUINTA ANTIGUA</dd>\\n<dt>City</dt><dd>Lazaro Cardenas</dd>\\n<dt>Country</dt><dd>MX</dd>\\n<dt>Max Temp</dt><dd>80.65 °F</dd>\\n</dl>\\n',\n",
       " '\\n<dl>\\n<dt>Hotel Name</dt><dd>InterContinental Riyadh, an IHG Hotel</dd>\\n<dt>City</dt><dd>Riyadh</dd>\\n<dt>Country</dt><dd>SA</dd>\\n<dt>Max Temp</dt><dd>82.54 °F</dd>\\n</dl>\\n',\n",
       " '\\n<dl>\\n<dt>Hotel Name</dt><dd>La Ode Husein</dd>\\n<dt>City</dt><dd>Katobu</dd>\\n<dt>Country</dt><dd>ID</dd>\\n<dt>Max Temp</dt><dd>75.33 °F</dd>\\n</dl>\\n',\n",
       " '\\n<dl>\\n<dt>Hotel Name</dt><dd>Taloa Heights</dd>\\n<dt>City</dt><dd>Alofi</dd>\\n<dt>Country</dt><dd>NU</dd>\\n<dt>Max Temp</dt><dd>80.83 °F</dd>\\n</dl>\\n',\n",
       " '\\n<dl>\\n<dt>Hotel Name</dt><dd>LE SAMANA</dd>\\n<dt>City</dt><dd>Mana</dd>\\n<dt>Country</dt><dd>GF</dd>\\n<dt>Max Temp</dt><dd>80.65 °F</dd>\\n</dl>\\n',\n",
       " '\\n<dl>\\n<dt>Hotel Name</dt><dd>Ramah Kost KITA</dd>\\n<dt>City</dt><dd>Pemangkat</dd>\\n<dt>Country</dt><dd>ID</dd>\\n<dt>Max Temp</dt><dd>80.92 °F</dd>\\n</dl>\\n',\n",
       " '\\n<dl>\\n<dt>Hotel Name</dt><dd>Mondkor Town, Bagbo Chiefdom, Bo District</dd>\\n<dt>City</dt><dd>Mattru</dd>\\n<dt>Country</dt><dd>SL</dd>\\n<dt>Max Temp</dt><dd>89.22 °F</dd>\\n</dl>\\n',\n",
       " '\\n<dl>\\n<dt>Hotel Name</dt><dd>Lorengau Harbourside Hotel</dd>\\n<dt>City</dt><dd>Lorengau</dd>\\n<dt>Country</dt><dd>PG</dd>\\n<dt>Max Temp</dt><dd>80.06 °F</dd>\\n</dl>\\n',\n",
       " \"\\n<dl>\\n<dt>Hotel Name</dt><dd>Marriott's Ko Olina Beach Club</dd>\\n<dt>City</dt><dd>Bozoum</dd>\\n<dt>Country</dt><dd>CF</dd>\\n<dt>Max Temp</dt><dd>85.78 °F</dd>\\n</dl>\\n\",\n",
       " '\\n<dl>\\n<dt>Hotel Name</dt><dd>Pousada Monte Carmelo O Pão</dd>\\n<dt>City</dt><dd>Belmonte</dd>\\n<dt>Country</dt><dd>BR</dd>\\n<dt>Max Temp</dt><dd>83.46 °F</dd>\\n</dl>\\n',\n",
       " '\\n<dl>\\n<dt>Hotel Name</dt><dd>Aston Pontianak Hotel & Convention Center</dd>\\n<dt>City</dt><dd>Pontianak</dd>\\n<dt>Country</dt><dd>ID</dd>\\n<dt>Max Temp</dt><dd>76.98 °F</dd>\\n</dl>\\n',\n",
       " '\\n<dl>\\n<dt>Hotel Name</dt><dd>SanBiz Lodge</dd>\\n<dt>City</dt><dd>Kirakira</dd>\\n<dt>Country</dt><dd>SB</dd>\\n<dt>Max Temp</dt><dd>79.36 °F</dd>\\n</dl>\\n',\n",
       " '\\n<dl>\\n<dt>Hotel Name</dt><dd>Aridolf Resort Wellness and Spa</dd>\\n<dt>City</dt><dd>Yenagoa</dd>\\n<dt>Country</dt><dd>NG</dd>\\n<dt>Max Temp</dt><dd>83.66 °F</dd>\\n</dl>\\n',\n",
       " '\\n<dl>\\n<dt>Hotel Name</dt><dd>Lambitu Hotel</dd>\\n<dt>City</dt><dd>Bima</dd>\\n<dt>Country</dt><dd>ID</dd>\\n<dt>Max Temp</dt><dd>75.18 °F</dd>\\n</dl>\\n',\n",
       " '\\n<dl>\\n<dt>Hotel Name</dt><dd>Hôtel Cap Macabou</dd>\\n<dt>City</dt><dd>Le Vauclin</dd>\\n<dt>Country</dt><dd>MQ</dd>\\n<dt>Max Temp</dt><dd>78.85 °F</dd>\\n</dl>\\n',\n",
       " '\\n<dl>\\n<dt>Hotel Name</dt><dd>Pousada dos Navegantes</dd>\\n<dt>City</dt><dd>Caravelas</dd>\\n<dt>Country</dt><dd>BR</dd>\\n<dt>Max Temp</dt><dd>85.44 °F</dd>\\n</dl>\\n',\n",
       " '\\n<dl>\\n<dt>Hotel Name</dt><dd>Pousada e Hotel Litoral Sul</dd>\\n<dt>City</dt><dd>Coruripe</dd>\\n<dt>Country</dt><dd>BR</dd>\\n<dt>Max Temp</dt><dd>82.81 °F</dd>\\n</dl>\\n',\n",
       " '\\n<dl>\\n<dt>Hotel Name</dt><dd>Amiin Hotel</dd>\\n<dt>City</dt><dd>Eyl</dd>\\n<dt>Country</dt><dd>SO</dd>\\n<dt>Max Temp</dt><dd>80.67 °F</dd>\\n</dl>\\n',\n",
       " \"\\n<dl>\\n<dt>Hotel Name</dt><dd>Marriott's Ko Olina Beach Club</dd>\\n<dt>City</dt><dd>Dutlwe</dd>\\n<dt>Country</dt><dd>BW</dd>\\n<dt>Max Temp</dt><dd>76.32 °F</dd>\\n</dl>\\n\",\n",
       " '\\n<dl>\\n<dt>Hotel Name</dt><dd>Sunrise Attitude Hotel</dd>\\n<dt>City</dt><dd>Quatre Cocos</dd>\\n<dt>Country</dt><dd>MU</dd>\\n<dt>Max Temp</dt><dd>78.91 °F</dd>\\n</dl>\\n',\n",
       " '\\n<dl>\\n<dt>Hotel Name</dt><dd>ฟาร์มแพะ หนองผักหนาม</dd>\\n<dt>City</dt><dd>Kamphaeng Phet</dd>\\n<dt>Country</dt><dd>TH</dd>\\n<dt>Max Temp</dt><dd>85.15 °F</dd>\\n</dl>\\n',\n",
       " '\\n<dl>\\n<dt>Hotel Name</dt><dd>Takhmao Good Health Hotel</dd>\\n<dt>City</dt><dd>Ta Khmau</dd>\\n<dt>Country</dt><dd>KH</dd>\\n<dt>Max Temp</dt><dd>78.85 °F</dd>\\n</dl>\\n',\n",
       " '\\n<dl>\\n<dt>Hotel Name</dt><dd>Omadhoo Inn</dd>\\n<dt>City</dt><dd>Mahibadhoo</dd>\\n<dt>Country</dt><dd>MV</dd>\\n<dt>Max Temp</dt><dd>83.43 °F</dd>\\n</dl>\\n',\n",
       " \"\\n<dl>\\n<dt>Hotel Name</dt><dd>POUSADA TRAVÉS'CIA</dd>\\n<dt>City</dt><dd>Cururupu</dd>\\n<dt>Country</dt><dd>BR</dd>\\n<dt>Max Temp</dt><dd>75.38 °F</dd>\\n</dl>\\n\",\n",
       " '\\n<dl>\\n<dt>Hotel Name</dt><dd>Veranda Paul et Virginie Hotel & Spa</dd>\\n<dt>City</dt><dd>Grand Gaube</dd>\\n<dt>Country</dt><dd>MU</dd>\\n<dt>Max Temp</dt><dd>79.2 °F</dd>\\n</dl>\\n',\n",
       " '\\n<dl>\\n<dt>Hotel Name</dt><dd>Hotel Mansión</dd>\\n<dt>City</dt><dd>Miraflores</dd>\\n<dt>Country</dt><dd>MX</dd>\\n<dt>Max Temp</dt><dd>81.25 °F</dd>\\n</dl>\\n',\n",
       " '\\n<dl>\\n<dt>Hotel Name</dt><dd>Hotel Sagar Residency</dd>\\n<dt>City</dt><dd>Honavar</dd>\\n<dt>Country</dt><dd>IN</dd>\\n<dt>Max Temp</dt><dd>79.61 °F</dd>\\n</dl>\\n',\n",
       " '\\n<dl>\\n<dt>Hotel Name</dt><dd>ढाढर</dd>\\n<dt>City</dt><dd>Dhadar</dd>\\n<dt>Country</dt><dd>IN</dd>\\n<dt>Max Temp</dt><dd>81.91 °F</dd>\\n</dl>\\n',\n",
       " '\\n<dl>\\n<dt>Hotel Name</dt><dd>Mini Hotel Central</dd>\\n<dt>City</dt><dd>Victoria</dd>\\n<dt>Country</dt><dd>HK</dd>\\n<dt>Max Temp</dt><dd>75.18 °F</dd>\\n</dl>\\n',\n",
       " '\\n<dl>\\n<dt>Hotel Name</dt><dd>Shree ram nivas</dd>\\n<dt>City</dt><dd>Kotma</dd>\\n<dt>Country</dt><dd>IN</dd>\\n<dt>Max Temp</dt><dd>79.65 °F</dd>\\n</dl>\\n',\n",
       " \"\\n<dl>\\n<dt>Hotel Name</dt><dd>Marriott's Ko Olina Beach Club</dd>\\n<dt>City</dt><dd>Makakilo City</dd>\\n<dt>Country</dt><dd>US</dd>\\n<dt>Max Temp</dt><dd>75.52 °F</dd>\\n</dl>\\n\"]"
      ]
     },
     "execution_count": 94,
     "metadata": {},
     "output_type": "execute_result"
    }
   ],
   "source": [
    "info_box_template = \"\"\"\n",
    "<dl>\n",
    "<dt>Hotel Name</dt><dd>{Hotel Name}</dd>\n",
    "<dt>City</dt><dd>{City}</dd>\n",
    "<dt>Country</dt><dd>{Country}</dd>\n",
    "<dt>Max Temp</dt><dd>{Max Temp} °F</dd>\n",
    "</dl>\n",
    "\"\"\"\n",
    "# Store the DataFrame Row.\n",
    "hotel_info = [info_box_template.format(**row) for index, row in hotel_df.iterrows()]\n",
    "hotel_info"
   ]
  },
  {
   "cell_type": "code",
   "execution_count": 92,
   "id": "45da05c4",
   "metadata": {},
   "outputs": [
    {
     "data": {
      "application/vnd.jupyter.widget-view+json": {
       "model_id": "04c2da752dc94f4c8963000c6dcafb4d",
       "version_major": 2,
       "version_minor": 0
      },
      "text/plain": [
       "Figure(layout=FigureLayout(height='420px'))"
      ]
     },
     "metadata": {},
     "output_type": "display_data"
    }
   ],
   "source": [
    "# Add a heatmap of temperature for the vacation spots and a pop-up marker for each city.\n",
    "locations = hotel_df[[\"Lat\", \"Lng\"]]\n",
    "max_temp = hotel_df[\"Max Temp\"]\n",
    "fig = gmaps.figure(center=(30.0, 31.0), zoom_level=1.5)\n",
    "heat_layer = gmaps.heatmap_layer(locations, weights=max_temp,dissipating=False,\n",
    "             max_intensity=300, point_radius=4)\n",
    "marker_layer = gmaps.marker_layer(locations, info_box_content=hotel_info)\n",
    "fig.add_layer(heat_layer)\n",
    "fig.add_layer(marker_layer)\n",
    "\n",
    "# Call the figure to plot the data.\n",
    "fig"
   ]
  },
  {
   "cell_type": "code",
   "execution_count": null,
   "id": "a07f0a95",
   "metadata": {},
   "outputs": [],
   "source": []
  },
  {
   "cell_type": "code",
   "execution_count": null,
   "id": "ecf4c09a",
   "metadata": {},
   "outputs": [],
   "source": []
  }
 ],
 "metadata": {
  "kernelspec": {
   "display_name": "Python 3 (ipykernel)",
   "language": "python",
   "name": "python3"
  },
  "language_info": {
   "codemirror_mode": {
    "name": "ipython",
    "version": 3
   },
   "file_extension": ".py",
   "mimetype": "text/x-python",
   "name": "python",
   "nbconvert_exporter": "python",
   "pygments_lexer": "ipython3",
   "version": "3.9.7"
  }
 },
 "nbformat": 4,
 "nbformat_minor": 5
}
